{
 "cells": [
  {
   "cell_type": "markdown",
   "id": "7bc81d14",
   "metadata": {},
   "source": [
    "### Tech Industry Dynamics: An Investigation into Job Openings and Programming Language Demand \n",
    "### Part Three: Statistical Hypotheses with Regression Analysis and Conclusions"
   ]
  },
  {
   "cell_type": "markdown",
   "id": "1cf28897",
   "metadata": {},
   "source": [
    "### Introduction\n",
    "Welcome to the final stage of our project, \"Tech Industry Dynamics: An Investigation into Job Openings and Programming Language Demand Part Three: Statistical Hypotheses with Regression Analysis and Conclusions.\" After constructing a comprehensive dataset and analyzing the popularity trends of various programming languages in the previous parts, we are now well-prepared to delve deeper. \n",
    "\n",
    "In this part, we will employ sophisticated statistical methods, particularly regression analysis, to investigate our hypotheses. These hypotheses were constructed based on the trends we observed in our data, and now it's time to apply rigorous statistical techniques to either accept or reject these hypotheses."
   ]
  },
  {
   "cell_type": "markdown",
   "id": "1f87bcd5",
   "metadata": {},
   "source": [
    "Stackoverflow dataset: https://insights.stackoverflow.com/survey?_ga=2.214150487.1325591965.1680843703-1734832329.1680843703\n",
    "\n",
    "JOLTS: https://download.bls.gov/pub/time.series/jt/"
   ]
  },
  {
   "cell_type": "markdown",
   "id": "14d6e213",
   "metadata": {},
   "source": [
    "### Business Questions\n",
    "Two primary business questions drove this research. First, is there a relationship between the fraction of individuals skilled in a specific programming language and the number of job openings requiring that skill? Secondly, based on this relationship, which programming languages should Skillzguid prioritize in its course offerings to meet job market demands?\n",
    "\n",
    "To answer these questions, we established a null hypothesis stating that there was no relationship between the fraction of individuals skilled in a particular programming language and the number of job openings. An alternative hypothesis suggested the contrary - that such a relationship does exist. We then used linear regression models to test these hypotheses."
   ]
  },
  {
   "cell_type": "markdown",
   "id": "3155b530",
   "metadata": {},
   "source": [
    "### Methodology and Findings\n",
    "For each programming language, we conducted an individual analysis. We built linear regression models to investigate the relationship between skill prevalence and job openings, and we evaluated these models based on their p-values to ascertain the validity of our hypotheses.\n",
    "\n",
    "Our findings revealed that for Julia, MATLAB, Python, and R, the p-value was less than 0.05, leading us to reject the null hypothesis. This suggests a relationship between the fraction of individuals skilled in these languages and job openings. However, for PHP, the p-value was greater than 0.05. In this case, we could not reject the null hypothesis, suggesting that no discernible relationship exists for PHP."
   ]
  },
  {
   "cell_type": "markdown",
   "id": "3ab78cae",
   "metadata": {},
   "source": [
    "#### Import the needed libraries"
   ]
  },
  {
   "cell_type": "code",
   "execution_count": 34,
   "id": "62748e3a",
   "metadata": {},
   "outputs": [],
   "source": [
    "import warnings\n",
    "\n",
    "warnings.filterwarnings(\"ignore\")\n",
    "warnings.simplefilter(action='ignore', category=FutureWarning)\n",
    "\n",
    "import numpy as np\n",
    "import pandas as pd\n",
    "import urllib.request\n",
    "import os\n",
    "import zipfile\n",
    "import matplotlib.pyplot as plt\n",
    "import statsmodels.api as sm\n",
    "import seaborn as sns\n",
    "import statsmodels.formula.api as smf\n",
    "import statsmodels.api as sm"
   ]
  },
  {
   "cell_type": "markdown",
   "id": "62d2a56e",
   "metadata": {},
   "source": [
    "The script initiates by loading the dataset from a CSV file into a pandas DataFrame. This dataset is expected to contain information about job vacancies and the percentage of individuals competent in various programming languages."
   ]
  },
  {
   "cell_type": "code",
   "execution_count": 2,
   "id": "80a0a956",
   "metadata": {},
   "outputs": [
    {
     "data": {
      "text/html": [
       "<div>\n",
       "<style scoped>\n",
       "    .dataframe tbody tr th:only-of-type {\n",
       "        vertical-align: middle;\n",
       "    }\n",
       "\n",
       "    .dataframe tbody tr th {\n",
       "        vertical-align: top;\n",
       "    }\n",
       "\n",
       "    .dataframe thead th {\n",
       "        text-align: right;\n",
       "    }\n",
       "</style>\n",
       "<table border=\"1\" class=\"dataframe\">\n",
       "  <thead>\n",
       "    <tr style=\"text-align: right;\">\n",
       "      <th></th>\n",
       "      <th>DYNAMODB</th>\n",
       "      <th>RUST</th>\n",
       "      <th>OBJECTIVE-C</th>\n",
       "      <th>COUCHDB</th>\n",
       "      <th>MATLAB</th>\n",
       "      <th>.NET</th>\n",
       "      <th>NUMPY</th>\n",
       "      <th>SCALA</th>\n",
       "      <th>JULIA</th>\n",
       "      <th>MONGODB</th>\n",
       "      <th>...</th>\n",
       "      <th>AMAZON WEB SERVICES (AWS)</th>\n",
       "      <th>COMMON LISP</th>\n",
       "      <th>LINUX DESKTOP</th>\n",
       "      <th>SMALLTALK</th>\n",
       "      <th>CLOUD (AWS, GAE, AZURE, ETC.)</th>\n",
       "      <th>VISUAL BASIC</th>\n",
       "      <th>LAMP</th>\n",
       "      <th>REACTJS</th>\n",
       "      <th>ARDUINO / RASPBERRY PI</th>\n",
       "      <th>jobopenings_agg</th>\n",
       "    </tr>\n",
       "  </thead>\n",
       "  <tbody>\n",
       "    <tr>\n",
       "      <th>0</th>\n",
       "      <td>0.0</td>\n",
       "      <td>0</td>\n",
       "      <td>956</td>\n",
       "      <td>1.0</td>\n",
       "      <td>13.0</td>\n",
       "      <td>1.0</td>\n",
       "      <td>0.0</td>\n",
       "      <td>11</td>\n",
       "      <td>1.0</td>\n",
       "      <td>1688.0</td>\n",
       "      <td>...</td>\n",
       "      <td>0.0</td>\n",
       "      <td>3.0</td>\n",
       "      <td>0.0</td>\n",
       "      <td>4.0</td>\n",
       "      <td>0.0</td>\n",
       "      <td>12.0</td>\n",
       "      <td>0.0</td>\n",
       "      <td>0.0</td>\n",
       "      <td>0.0</td>\n",
       "      <td>667832.0</td>\n",
       "    </tr>\n",
       "    <tr>\n",
       "      <th>1</th>\n",
       "      <td>0.0</td>\n",
       "      <td>1</td>\n",
       "      <td>676</td>\n",
       "      <td>0.0</td>\n",
       "      <td>6.0</td>\n",
       "      <td>2.0</td>\n",
       "      <td>0.0</td>\n",
       "      <td>13</td>\n",
       "      <td>0.0</td>\n",
       "      <td>1277.0</td>\n",
       "      <td>...</td>\n",
       "      <td>0.0</td>\n",
       "      <td>0.0</td>\n",
       "      <td>0.0</td>\n",
       "      <td>1.0</td>\n",
       "      <td>0.0</td>\n",
       "      <td>12.0</td>\n",
       "      <td>0.0</td>\n",
       "      <td>0.0</td>\n",
       "      <td>1827.0</td>\n",
       "      <td>784846.0</td>\n",
       "    </tr>\n",
       "    <tr>\n",
       "      <th>2</th>\n",
       "      <td>0.0</td>\n",
       "      <td>0</td>\n",
       "      <td>0</td>\n",
       "      <td>0.0</td>\n",
       "      <td>0.0</td>\n",
       "      <td>0.0</td>\n",
       "      <td>0.0</td>\n",
       "      <td>0</td>\n",
       "      <td>0.0</td>\n",
       "      <td>0.0</td>\n",
       "      <td>...</td>\n",
       "      <td>0.0</td>\n",
       "      <td>0.0</td>\n",
       "      <td>0.0</td>\n",
       "      <td>0.0</td>\n",
       "      <td>0.0</td>\n",
       "      <td>0.0</td>\n",
       "      <td>0.0</td>\n",
       "      <td>0.0</td>\n",
       "      <td>0.0</td>\n",
       "      <td>913536.0</td>\n",
       "    </tr>\n",
       "    <tr>\n",
       "      <th>3</th>\n",
       "      <td>NaN</td>\n",
       "      <td>436</td>\n",
       "      <td>3202</td>\n",
       "      <td>NaN</td>\n",
       "      <td>1602.0</td>\n",
       "      <td>NaN</td>\n",
       "      <td>NaN</td>\n",
       "      <td>1602</td>\n",
       "      <td>NaN</td>\n",
       "      <td>4780.0</td>\n",
       "      <td>...</td>\n",
       "      <td>NaN</td>\n",
       "      <td>NaN</td>\n",
       "      <td>NaN</td>\n",
       "      <td>NaN</td>\n",
       "      <td>4629.0</td>\n",
       "      <td>3312.0</td>\n",
       "      <td>4821.0</td>\n",
       "      <td>2541.0</td>\n",
       "      <td>3797.0</td>\n",
       "      <td>961278.0</td>\n",
       "    </tr>\n",
       "    <tr>\n",
       "      <th>4</th>\n",
       "      <td>NaN</td>\n",
       "      <td>416</td>\n",
       "      <td>2349</td>\n",
       "      <td>NaN</td>\n",
       "      <td>1569.0</td>\n",
       "      <td>NaN</td>\n",
       "      <td>NaN</td>\n",
       "      <td>1309</td>\n",
       "      <td>138.0</td>\n",
       "      <td>6192.0</td>\n",
       "      <td>...</td>\n",
       "      <td>8183.0</td>\n",
       "      <td>273.0</td>\n",
       "      <td>9593.0</td>\n",
       "      <td>327.0</td>\n",
       "      <td>NaN</td>\n",
       "      <td>NaN</td>\n",
       "      <td>NaN</td>\n",
       "      <td>NaN</td>\n",
       "      <td>NaN</td>\n",
       "      <td>1007397.0</td>\n",
       "    </tr>\n",
       "    <tr>\n",
       "      <th>5</th>\n",
       "      <td>NaN</td>\n",
       "      <td>1857</td>\n",
       "      <td>5510</td>\n",
       "      <td>NaN</td>\n",
       "      <td>4564.0</td>\n",
       "      <td>NaN</td>\n",
       "      <td>NaN</td>\n",
       "      <td>3420</td>\n",
       "      <td>430.0</td>\n",
       "      <td>17183.0</td>\n",
       "      <td>...</td>\n",
       "      <td>NaN</td>\n",
       "      <td>NaN</td>\n",
       "      <td>NaN</td>\n",
       "      <td>NaN</td>\n",
       "      <td>NaN</td>\n",
       "      <td>NaN</td>\n",
       "      <td>NaN</td>\n",
       "      <td>NaN</td>\n",
       "      <td>NaN</td>\n",
       "      <td>1170007.0</td>\n",
       "    </tr>\n",
       "    <tr>\n",
       "      <th>6</th>\n",
       "      <td>4629.0</td>\n",
       "      <td>2794</td>\n",
       "      <td>4191</td>\n",
       "      <td>NaN</td>\n",
       "      <td>NaN</td>\n",
       "      <td>21889.0</td>\n",
       "      <td>NaN</td>\n",
       "      <td>3309</td>\n",
       "      <td>NaN</td>\n",
       "      <td>19100.0</td>\n",
       "      <td>...</td>\n",
       "      <td>NaN</td>\n",
       "      <td>NaN</td>\n",
       "      <td>NaN</td>\n",
       "      <td>NaN</td>\n",
       "      <td>NaN</td>\n",
       "      <td>NaN</td>\n",
       "      <td>NaN</td>\n",
       "      <td>NaN</td>\n",
       "      <td>NaN</td>\n",
       "      <td>1175220.0</td>\n",
       "    </tr>\n",
       "    <tr>\n",
       "      <th>7</th>\n",
       "      <td>NaN</td>\n",
       "      <td>2929</td>\n",
       "      <td>2340</td>\n",
       "      <td>NaN</td>\n",
       "      <td>NaN</td>\n",
       "      <td>14144.0</td>\n",
       "      <td>NaN</td>\n",
       "      <td>2052</td>\n",
       "      <td>519.0</td>\n",
       "      <td>NaN</td>\n",
       "      <td>...</td>\n",
       "      <td>NaN</td>\n",
       "      <td>NaN</td>\n",
       "      <td>NaN</td>\n",
       "      <td>NaN</td>\n",
       "      <td>NaN</td>\n",
       "      <td>NaN</td>\n",
       "      <td>NaN</td>\n",
       "      <td>NaN</td>\n",
       "      <td>NaN</td>\n",
       "      <td>1042112.0</td>\n",
       "    </tr>\n",
       "    <tr>\n",
       "      <th>8</th>\n",
       "      <td>5137.0</td>\n",
       "      <td>5799</td>\n",
       "      <td>2310</td>\n",
       "      <td>NaN</td>\n",
       "      <td>3846.0</td>\n",
       "      <td>NaN</td>\n",
       "      <td>16445.0</td>\n",
       "      <td>2148</td>\n",
       "      <td>1068.0</td>\n",
       "      <td>19479.0</td>\n",
       "      <td>...</td>\n",
       "      <td>NaN</td>\n",
       "      <td>NaN</td>\n",
       "      <td>NaN</td>\n",
       "      <td>NaN</td>\n",
       "      <td>NaN</td>\n",
       "      <td>NaN</td>\n",
       "      <td>NaN</td>\n",
       "      <td>NaN</td>\n",
       "      <td>NaN</td>\n",
       "      <td>1635705.0</td>\n",
       "    </tr>\n",
       "    <tr>\n",
       "      <th>9</th>\n",
       "      <td>5029.0</td>\n",
       "      <td>6625</td>\n",
       "      <td>1698</td>\n",
       "      <td>783.0</td>\n",
       "      <td>2913.0</td>\n",
       "      <td>15850.0</td>\n",
       "      <td>13144.0</td>\n",
       "      <td>1837</td>\n",
       "      <td>1084.0</td>\n",
       "      <td>17228.0</td>\n",
       "      <td>...</td>\n",
       "      <td>NaN</td>\n",
       "      <td>NaN</td>\n",
       "      <td>NaN</td>\n",
       "      <td>NaN</td>\n",
       "      <td>NaN</td>\n",
       "      <td>NaN</td>\n",
       "      <td>NaN</td>\n",
       "      <td>NaN</td>\n",
       "      <td>NaN</td>\n",
       "      <td>1822390.0</td>\n",
       "    </tr>\n",
       "  </tbody>\n",
       "</table>\n",
       "<p>10 rows × 212 columns</p>\n",
       "</div>"
      ],
      "text/plain": [
       "   DYNAMODB  RUST  OBJECTIVE-C  COUCHDB  MATLAB     .NET    NUMPY  SCALA   \n",
       "0       0.0     0          956      1.0    13.0      1.0      0.0     11  \\\n",
       "1       0.0     1          676      0.0     6.0      2.0      0.0     13   \n",
       "2       0.0     0            0      0.0     0.0      0.0      0.0      0   \n",
       "3       NaN   436         3202      NaN  1602.0      NaN      NaN   1602   \n",
       "4       NaN   416         2349      NaN  1569.0      NaN      NaN   1309   \n",
       "5       NaN  1857         5510      NaN  4564.0      NaN      NaN   3420   \n",
       "6    4629.0  2794         4191      NaN     NaN  21889.0      NaN   3309   \n",
       "7       NaN  2929         2340      NaN     NaN  14144.0      NaN   2052   \n",
       "8    5137.0  5799         2310      NaN  3846.0      NaN  16445.0   2148   \n",
       "9    5029.0  6625         1698    783.0  2913.0  15850.0  13144.0   1837   \n",
       "\n",
       "    JULIA  MONGODB  ...  AMAZON WEB SERVICES (AWS)  COMMON LISP   \n",
       "0     1.0   1688.0  ...                        0.0          3.0  \\\n",
       "1     0.0   1277.0  ...                        0.0          0.0   \n",
       "2     0.0      0.0  ...                        0.0          0.0   \n",
       "3     NaN   4780.0  ...                        NaN          NaN   \n",
       "4   138.0   6192.0  ...                     8183.0        273.0   \n",
       "5   430.0  17183.0  ...                        NaN          NaN   \n",
       "6     NaN  19100.0  ...                        NaN          NaN   \n",
       "7   519.0      NaN  ...                        NaN          NaN   \n",
       "8  1068.0  19479.0  ...                        NaN          NaN   \n",
       "9  1084.0  17228.0  ...                        NaN          NaN   \n",
       "\n",
       "   LINUX DESKTOP  SMALLTALK  CLOUD (AWS, GAE, AZURE, ETC.)  VISUAL BASIC   \n",
       "0            0.0        4.0                            0.0          12.0  \\\n",
       "1            0.0        1.0                            0.0          12.0   \n",
       "2            0.0        0.0                            0.0           0.0   \n",
       "3            NaN        NaN                         4629.0        3312.0   \n",
       "4         9593.0      327.0                            NaN           NaN   \n",
       "5            NaN        NaN                            NaN           NaN   \n",
       "6            NaN        NaN                            NaN           NaN   \n",
       "7            NaN        NaN                            NaN           NaN   \n",
       "8            NaN        NaN                            NaN           NaN   \n",
       "9            NaN        NaN                            NaN           NaN   \n",
       "\n",
       "     LAMP  REACTJS  ARDUINO / RASPBERRY PI  jobopenings_agg  \n",
       "0     0.0      0.0                     0.0         667832.0  \n",
       "1     0.0      0.0                  1827.0         784846.0  \n",
       "2     0.0      0.0                     0.0         913536.0  \n",
       "3  4821.0   2541.0                  3797.0         961278.0  \n",
       "4     NaN      NaN                     NaN        1007397.0  \n",
       "5     NaN      NaN                     NaN        1170007.0  \n",
       "6     NaN      NaN                     NaN        1175220.0  \n",
       "7     NaN      NaN                     NaN        1042112.0  \n",
       "8     NaN      NaN                     NaN        1635705.0  \n",
       "9     NaN      NaN                     NaN        1822390.0  \n",
       "\n",
       "[10 rows x 212 columns]"
      ]
     },
     "execution_count": 2,
     "metadata": {},
     "output_type": "execute_result"
    }
   ],
   "source": [
    "data = pd.read_csv('datasets/skills_jobopenings_dataset.csv')\n",
    "data"
   ]
  },
  {
   "cell_type": "markdown",
   "id": "fb56bbe3",
   "metadata": {},
   "source": [
    "### Language Skill: C\n",
    "In the provided Python script, the primary goal is to examine the association between the proportion of people skilled in the C programming language and the total count of job openings."
   ]
  },
  {
   "cell_type": "markdown",
   "id": "5bc03861",
   "metadata": {},
   "source": [
    "Following this, a subset of the data is created, which includes information solely about the C programming language and job openings. Subsequently, the proportion of people skilled in C is calculated."
   ]
  },
  {
   "cell_type": "code",
   "execution_count": 3,
   "id": "9157d6e2",
   "metadata": {},
   "outputs": [
    {
     "data": {
      "text/html": [
       "<div>\n",
       "<style scoped>\n",
       "    .dataframe tbody tr th:only-of-type {\n",
       "        vertical-align: middle;\n",
       "    }\n",
       "\n",
       "    .dataframe tbody tr th {\n",
       "        vertical-align: top;\n",
       "    }\n",
       "\n",
       "    .dataframe thead th {\n",
       "        text-align: right;\n",
       "    }\n",
       "</style>\n",
       "<table border=\"1\" class=\"dataframe\">\n",
       "  <thead>\n",
       "    <tr style=\"text-align: right;\">\n",
       "      <th></th>\n",
       "      <th>C</th>\n",
       "      <th>jobopenings_agg</th>\n",
       "    </tr>\n",
       "  </thead>\n",
       "  <tbody>\n",
       "    <tr>\n",
       "      <th>0</th>\n",
       "      <td>0.000000</td>\n",
       "      <td>667832.0</td>\n",
       "    </tr>\n",
       "    <tr>\n",
       "      <th>1</th>\n",
       "      <td>0.000131</td>\n",
       "      <td>784846.0</td>\n",
       "    </tr>\n",
       "    <tr>\n",
       "      <th>2</th>\n",
       "      <td>0.000000</td>\n",
       "      <td>913536.0</td>\n",
       "    </tr>\n",
       "    <tr>\n",
       "      <th>3</th>\n",
       "      <td>0.137034</td>\n",
       "      <td>961278.0</td>\n",
       "    </tr>\n",
       "    <tr>\n",
       "      <th>4</th>\n",
       "      <td>0.135702</td>\n",
       "      <td>1007397.0</td>\n",
       "    </tr>\n",
       "  </tbody>\n",
       "</table>\n",
       "</div>"
      ],
      "text/plain": [
       "          C  jobopenings_agg\n",
       "0  0.000000         667832.0\n",
       "1  0.000131         784846.0\n",
       "2  0.000000         913536.0\n",
       "3  0.137034         961278.0\n",
       "4  0.135702        1007397.0"
      ]
     },
     "execution_count": 3,
     "metadata": {},
     "output_type": "execute_result"
    }
   ],
   "source": [
    "subset_data = data.loc[:, ['C', 'jobopenings_agg']]\n",
    "subset_data['C'] /= data.qty.values\n",
    "subset_data.head()"
   ]
  },
  {
   "cell_type": "markdown",
   "id": "216d65ce",
   "metadata": {},
   "source": [
    "To visualize the data and get a sense of the relationship between C skills and job openings, a regression plot is created using seaborn's regplot function. The plot shows a scatter plot of the data with a regression line."
   ]
  },
  {
   "cell_type": "code",
   "execution_count": 4,
   "id": "ecfabefe",
   "metadata": {},
   "outputs": [
    {
     "data": {
      "image/png": "[encoded data removed]",
      "text/plain": [
       "<Figure size 640x480 with 1 Axes>"
      ]
     },
     "metadata": {},
     "output_type": "display_data"
    }
   ],
   "source": [
    "sns.regplot(x='C', y='jobopenings_agg', data=subset_data)\n",
    " \n",
    "plt.show()"
   ]
  },
  {
   "cell_type": "markdown",
   "id": "84ea3f17",
   "metadata": {},
   "source": [
    "### Setting a hypothesis.\n",
    "\n",
    "- Null hypothesis (H0): There is no relationship between the fraction of person C skilled and the job opening.\n",
    "- Alternative hypothesis (Ha): There is a relationship between the fraction of person C skilled and the job opening."
   ]
  },
  {
   "cell_type": "markdown",
   "id": "d6cfa09f",
   "metadata": {},
   "source": [
    "Next, a pair of hypotheses is set for statistical testing. The null hypothesis (H0) states there's no relationship between the fraction of individuals skilled in C and the job openings. In contrast, the alternative hypothesis (Ha) proposes that such a relationship does exist.\n",
    "\n",
    "Once the hypotheses are established, the script proceeds to create a statistical model using Ordinary Least Squares (OLS) Regression with the formula 'C ~ jobopenings_agg'. This formula signifies that the C skills (dependent variable) are being modeled as a function of job openings (independent variable)."
   ]
  },
  {
   "cell_type": "code",
   "execution_count": 5,
   "id": "417d1118",
   "metadata": {},
   "outputs": [
    {
     "name": "stdout",
     "output_type": "stream",
     "text": [
      "                            OLS Regression Results                            \n",
      "==============================================================================\n",
      "Dep. Variable:                      C   R-squared:                       0.520\n",
      "Model:                            OLS   Adj. R-squared:                  0.460\n",
      "Method:                 Least Squares   F-statistic:                     8.681\n",
      "Date:                Sat, 27 May 2023   Prob (F-statistic):             0.0185\n",
      "Time:                        11:08:21   Log-Likelihood:                 14.165\n",
      "No. Observations:                  10   AIC:                            -24.33\n",
      "Df Residuals:                       8   BIC:                            -23.72\n",
      "Df Model:                           1                                         \n",
      "Covariance Type:            nonrobust                                         \n",
      "===================================================================================\n",
      "                      coef    std err          t      P>|t|      [0.025      0.975]\n",
      "-----------------------------------------------------------------------------------\n",
      "Intercept          -0.0754      0.071     -1.062      0.319      -0.239       0.088\n",
      "jobopenings_agg  1.789e-07   6.07e-08      2.946      0.019    3.89e-08    3.19e-07\n",
      "==============================================================================\n",
      "Omnibus:                        3.046   Durbin-Watson:                   0.868\n",
      "Prob(Omnibus):                  0.218   Jarque-Bera (JB):                0.986\n",
      "Skew:                          -0.106   Prob(JB):                        0.611\n",
      "Kurtosis:                       1.476   Cond. No.                     4.00e+06\n",
      "==============================================================================\n",
      "\n",
      "Notes:\n",
      "[1] Standard Errors assume that the covariance matrix of the errors is correctly specified.\n",
      "[2] The condition number is large,  4e+06. This might indicate that there are\n",
      "strong multicollinearity or other numerical problems.\n"
     ]
    }
   ],
   "source": [
    "model = smf.ols(formula='C ~ jobopenings_agg', data=subset_data).fit()\n",
    "\n",
    "# model summary\n",
    "print(model.summary())"
   ]
  },
  {
   "cell_type": "markdown",
   "id": "35b33d79",
   "metadata": {},
   "source": [
    "The model.summary() function provides a comprehensive overview of the Ordinary Least Squares (OLS) regression model. It includes a variety of critical statistics that can help us interpret the results.\n",
    "\n",
    "Our dependent variable, as indicated on the line 'Dep. Variable', is 'C', meaning it's the variable we're attempting to predict or explain.\n",
    "\n",
    "The R-squared and Adj. R-squared values express the proportion of the variance in 'C' that can be explained by 'jobopenings_agg', our independent variable. Here, about 52% of the variation in 'C' can be attributed to 'jobopenings_agg', with an adjustment for the number of predictors in the model.\n",
    "\n",
    "The F-statistic and its corresponding probability, Prob (F-statistic), are used to test the overall significance of the regression model. The p-value of 0.0185, which is less than 0.05, suggests that our predictors have a statistically significant impact on explaining the dependent variable.\n",
    "\n",
    "The 'coef' column shows the estimated coefficients for the intercept and 'jobopenings_agg'. In our model, for each unit increase in job openings, the predicted value of 'C' rises by 1.789e-07, assuming other factors remain constant.\n",
    "\n",
    "The P>|t| values (also known as p-values) are used to test the null hypothesis that each coefficient is zero. A p-value less than our chosen significance level (0.05) leads us to reject the null hypothesis and infer a statistically significant relationship between the predictor and the outcome variable. In this model, the p-value for 'jobopenings_agg' is 0.019, indicating that 'jobopenings_agg' significantly predicts the proportion of individuals skilled in 'C'."
   ]
  },
  {
   "cell_type": "markdown",
   "id": "0ab7956f",
   "metadata": {},
   "source": [
    "#### Our predictions:\n",
    "\n",
    "Assuming a significance level (alpha) of 0.05, we reject the null hypothesis since p<0.05. Therefore, we conclude that there is a statistically significant relationship between the fraction of individuals skilled in 'C' and the number of job openings.\""
   ]
  },
  {
   "cell_type": "markdown",
   "id": "09c7b5b6",
   "metadata": {},
   "source": [
    "### Language Skill: Java"
   ]
  },
  {
   "cell_type": "markdown",
   "id": "2c9561c4",
   "metadata": {},
   "source": [
    "Similar to the previous analysis, we started by isolating the variables of interest - 'JAVA' and 'jobopenings_agg' - from the main dataset. For the variable 'JAVA', we normalized it by the total number of observations to create a fractional representation of individuals skilled in Java."
   ]
  },
  {
   "cell_type": "markdown",
   "id": "6829a906",
   "metadata": {},
   "source": [
    "We then visualized the relationship between the fraction of individuals skilled in Java ('JAVA') and the aggregate number of job openings ('jobopenings_agg'). The regression plot gives us a preliminary sense of the relationship between these two variables."
   ]
  },
  {
   "cell_type": "code",
   "execution_count": 6,
   "id": "5f797195",
   "metadata": {},
   "outputs": [
    {
     "data": {
      "text/html": [
       "<div>\n",
       "<style scoped>\n",
       "    .dataframe tbody tr th:only-of-type {\n",
       "        vertical-align: middle;\n",
       "    }\n",
       "\n",
       "    .dataframe tbody tr th {\n",
       "        vertical-align: top;\n",
       "    }\n",
       "\n",
       "    .dataframe thead th {\n",
       "        text-align: right;\n",
       "    }\n",
       "</style>\n",
       "<table border=\"1\" class=\"dataframe\">\n",
       "  <thead>\n",
       "    <tr style=\"text-align: right;\">\n",
       "      <th></th>\n",
       "      <th>JAVA</th>\n",
       "      <th>jobopenings_agg</th>\n",
       "    </tr>\n",
       "  </thead>\n",
       "  <tbody>\n",
       "    <tr>\n",
       "      <th>0</th>\n",
       "      <td>0.000103</td>\n",
       "      <td>667832.0</td>\n",
       "    </tr>\n",
       "    <tr>\n",
       "      <th>1</th>\n",
       "      <td>0.000131</td>\n",
       "      <td>784846.0</td>\n",
       "    </tr>\n",
       "    <tr>\n",
       "      <th>2</th>\n",
       "      <td>0.000000</td>\n",
       "      <td>913536.0</td>\n",
       "    </tr>\n",
       "    <tr>\n",
       "      <th>3</th>\n",
       "      <td>0.320221</td>\n",
       "      <td>961278.0</td>\n",
       "    </tr>\n",
       "    <tr>\n",
       "      <th>4</th>\n",
       "      <td>0.282612</td>\n",
       "      <td>1007397.0</td>\n",
       "    </tr>\n",
       "  </tbody>\n",
       "</table>\n",
       "</div>"
      ],
      "text/plain": [
       "       JAVA  jobopenings_agg\n",
       "0  0.000103         667832.0\n",
       "1  0.000131         784846.0\n",
       "2  0.000000         913536.0\n",
       "3  0.320221         961278.0\n",
       "4  0.282612        1007397.0"
      ]
     },
     "execution_count": 6,
     "metadata": {},
     "output_type": "execute_result"
    }
   ],
   "source": [
    "subset_data = data.loc[:, ['JAVA', 'jobopenings_agg']]\n",
    "subset_data['JAVA'] /= data.qty.values\n",
    "subset_data.head()"
   ]
  },
  {
   "cell_type": "code",
   "execution_count": 7,
   "id": "72e2a8ed",
   "metadata": {},
   "outputs": [
    {
     "data": {
      "image/png": "[encoded data removed]",
      "text/plain": [
       "<Figure size 640x480 with 1 Axes>"
      ]
     },
     "metadata": {},
     "output_type": "display_data"
    }
   ],
   "source": [
    "sns.regplot(x='JAVA', y='jobopenings_agg', data=subset_data)\n",
    " \n",
    "plt.show()"
   ]
  },
  {
   "cell_type": "markdown",
   "id": "4f1cd8f9",
   "metadata": {},
   "source": [
    "### Setting a hypothesis.\n",
    "\n",
    "- Null hypothesis (H0): There is no relationship between the fraction of person JAVA skilled and the job opening.\n",
    "- Alternative hypothesis (Ha): There is a relationship between the fraction of person JAVA skilled and the job opening."
   ]
  },
  {
   "cell_type": "markdown",
   "id": "60e1ec89",
   "metadata": {},
   "source": [
    "For hypothesis testing, we posited two contrasting hypotheses. The null hypothesis (H0) assumed no relationship between the fraction of individuals skilled in Java and the job openings. The alternative hypothesis (Ha), on the other hand, proposed that there is a relationship."
   ]
  },
  {
   "cell_type": "code",
   "execution_count": 8,
   "id": "2887a93a",
   "metadata": {},
   "outputs": [
    {
     "name": "stdout",
     "output_type": "stream",
     "text": [
      "                            OLS Regression Results                            \n",
      "==============================================================================\n",
      "Dep. Variable:                   JAVA   R-squared:                       0.391\n",
      "Model:                            OLS   Adj. R-squared:                  0.315\n",
      "Method:                 Least Squares   F-statistic:                     5.142\n",
      "Date:                Sat, 27 May 2023   Prob (F-statistic):             0.0531\n",
      "Time:                        11:08:25   Log-Likelihood:                 6.6407\n",
      "No. Observations:                  10   AIC:                            -9.281\n",
      "Df Residuals:                       8   BIC:                            -8.676\n",
      "Df Model:                           1                                         \n",
      "Covariance Type:            nonrobust                                         \n",
      "===================================================================================\n",
      "                      coef    std err          t      P>|t|      [0.025      0.975]\n",
      "-----------------------------------------------------------------------------------\n",
      "Intercept          -0.0870      0.151     -0.577      0.580      -0.434       0.260\n",
      "jobopenings_agg  2.922e-07   1.29e-07      2.268      0.053   -4.96e-09    5.89e-07\n",
      "==============================================================================\n",
      "Omnibus:                        5.468   Durbin-Watson:                   0.912\n",
      "Prob(Omnibus):                  0.065   Jarque-Bera (JB):                1.248\n",
      "Skew:                          -0.119   Prob(JB):                        0.536\n",
      "Kurtosis:                       1.286   Cond. No.                     4.00e+06\n",
      "==============================================================================\n",
      "\n",
      "Notes:\n",
      "[1] Standard Errors assume that the covariance matrix of the errors is correctly specified.\n",
      "[2] The condition number is large,  4e+06. This might indicate that there are\n",
      "strong multicollinearity or other numerical problems.\n"
     ]
    }
   ],
   "source": [
    "model = smf.ols(formula='JAVA ~ jobopenings_agg', data=subset_data).fit()\n",
    "\n",
    "# model summary\n",
    "print(model.summary())"
   ]
  },
  {
   "cell_type": "markdown",
   "id": "cd61010c",
   "metadata": {},
   "source": [
    "Next, we implemented an Ordinary Least Squares (OLS) Regression to evaluate our hypotheses. The regression results reveal an adjusted R-squared value of 0.315. This means approximately 31.5% of the variability in the 'JAVA' variable can be accounted for by 'jobopenings_agg'."
   ]
  },
  {
   "cell_type": "markdown",
   "id": "d1d16b19",
   "metadata": {},
   "source": [
    "#### Our predictions:\n",
    "\n",
    "The 'jobopenings_agg' coefficient is positive, suggesting that as job openings increase, the fraction of individuals with Java skills also increases, assuming other factors remain constant. Nevertheless, the p-value corresponding to this coefficient is slightly above our chosen significance level of 0.05. Consequently, we fail to reject the null hypothesis. This implies that, despite the observed trend, we lack sufficient statistical evidence to assert a significant relationship between the fraction of individuals skilled in Java and the number of job openings."
   ]
  },
  {
   "cell_type": "markdown",
   "id": "7a3c9ed1",
   "metadata": {},
   "source": [
    "### Language Skill: Julia"
   ]
  },
  {
   "cell_type": "markdown",
   "id": "660041a4",
   "metadata": {},
   "source": [
    "For the Julia programming language, we set up a similar hypothesis test. The null hypothesis (H0) states that there is no relationship between the fraction of individuals skilled in Julia and the job openings, while the alternative hypothesis (Ha) suggests a relationship exists."
   ]
  },
  {
   "cell_type": "markdown",
   "id": "8ad1313d",
   "metadata": {},
   "source": [
    "The code below is used to create a new DataFrame subset_data that only contains the 'JULIA' and 'jobopenings_agg' columns from the original 'data' DataFrame.\n",
    "\n",
    "Then subset_data normalizes the 'JULIA' values in the subset data by dividing it by the total count of skills in each row. This operation provides a fraction representing the prevalence of Julia skill in the dataset for each year.\n",
    "\n",
    "When we print the head of our DataFrame using subset_data.head(), we see the first few rows of our newly created DataFrame. For example, the first row indicates that the fraction of persons skilled in Julia was around 0.000103 and the number of job openings was 667,832 in that year. There's also an entry with 'NaN', which indicates that there was no data available for Julia in the corresponding survey year. This can occur when the skill wasn't measured that year in the survey."
   ]
  },
  {
   "cell_type": "code",
   "execution_count": 9,
   "id": "3be111bb",
   "metadata": {},
   "outputs": [
    {
     "data": {
      "text/html": [
       "<div>\n",
       "<style scoped>\n",
       "    .dataframe tbody tr th:only-of-type {\n",
       "        vertical-align: middle;\n",
       "    }\n",
       "\n",
       "    .dataframe tbody tr th {\n",
       "        vertical-align: top;\n",
       "    }\n",
       "\n",
       "    .dataframe thead th {\n",
       "        text-align: right;\n",
       "    }\n",
       "</style>\n",
       "<table border=\"1\" class=\"dataframe\">\n",
       "  <thead>\n",
       "    <tr style=\"text-align: right;\">\n",
       "      <th></th>\n",
       "      <th>JULIA</th>\n",
       "      <th>jobopenings_agg</th>\n",
       "    </tr>\n",
       "  </thead>\n",
       "  <tbody>\n",
       "    <tr>\n",
       "      <th>0</th>\n",
       "      <td>0.000103</td>\n",
       "      <td>667832.0</td>\n",
       "    </tr>\n",
       "    <tr>\n",
       "      <th>1</th>\n",
       "      <td>0.000000</td>\n",
       "      <td>784846.0</td>\n",
       "    </tr>\n",
       "    <tr>\n",
       "      <th>2</th>\n",
       "      <td>0.000000</td>\n",
       "      <td>913536.0</td>\n",
       "    </tr>\n",
       "    <tr>\n",
       "      <th>3</th>\n",
       "      <td>NaN</td>\n",
       "      <td>961278.0</td>\n",
       "    </tr>\n",
       "    <tr>\n",
       "      <th>4</th>\n",
       "      <td>0.002685</td>\n",
       "      <td>1007397.0</td>\n",
       "    </tr>\n",
       "  </tbody>\n",
       "</table>\n",
       "</div>"
      ],
      "text/plain": [
       "      JULIA  jobopenings_agg\n",
       "0  0.000103         667832.0\n",
       "1  0.000000         784846.0\n",
       "2  0.000000         913536.0\n",
       "3       NaN         961278.0\n",
       "4  0.002685        1007397.0"
      ]
     },
     "execution_count": 9,
     "metadata": {},
     "output_type": "execute_result"
    }
   ],
   "source": [
    "subset_data = data.loc[:, ['JULIA', 'jobopenings_agg']]\n",
    "subset_data['JULIA'] /= data.qty.values\n",
    "subset_data.head()"
   ]
  },
  {
   "cell_type": "markdown",
   "id": "58cfff7a",
   "metadata": {},
   "source": [
    "Finally, the seaborn regplot visualizes the relationship between the fraction of individuals with Julia skills and the number of job openings. The plot is a scatter plot with a linear regression model fitted to it. It's an invaluable tool for observing and understanding the relationship between these two variables at a glance. The line represents the best fit line through the data points and offers a visual verification of the correlation that we've found statistically."
   ]
  },
  {
   "cell_type": "code",
   "execution_count": 10,
   "id": "17fd6fd1",
   "metadata": {},
   "outputs": [
    {
     "data": {
      "image/png": "[encoded data removed]",
      "text/plain": [
       "<Figure size 640x480 with 1 Axes>"
      ]
     },
     "metadata": {},
     "output_type": "display_data"
    }
   ],
   "source": [
    "sns.regplot(x='JULIA', y='jobopenings_agg', data=subset_data)\n",
    " \n",
    "plt.show()"
   ]
  },
  {
   "cell_type": "markdown",
   "id": "f696bf65",
   "metadata": {},
   "source": [
    "### Setting a hypothesis.\n",
    "\n",
    "- Null hypothesis (H0): There is no relationship between the fraction of person JuliaC skilled and the job opening.\n",
    "- Alternative hypothesis (Ha): There is a relationship between the fraction of person Julia skilled and the job opening."
   ]
  },
  {
   "cell_type": "code",
   "execution_count": 11,
   "id": "ed4ff4e3",
   "metadata": {},
   "outputs": [
    {
     "name": "stdout",
     "output_type": "stream",
     "text": [
      "                            OLS Regression Results                            \n",
      "==============================================================================\n",
      "Dep. Variable:                  JULIA   R-squared:                       0.893\n",
      "Model:                            OLS   Adj. R-squared:                  0.876\n",
      "Method:                 Least Squares   F-statistic:                     50.27\n",
      "Date:                Sat, 27 May 2023   Prob (F-statistic):           0.000395\n",
      "Time:                        11:08:27   Log-Likelihood:                 39.179\n",
      "No. Observations:                   8   AIC:                            -74.36\n",
      "Df Residuals:                       6   BIC:                            -74.20\n",
      "Df Model:                           1                                         \n",
      "Covariance Type:            nonrobust                                         \n",
      "===================================================================================\n",
      "                      coef    std err          t      P>|t|      [0.025      0.975]\n",
      "-----------------------------------------------------------------------------------\n",
      "Intercept          -0.0103      0.002     -4.430      0.004      -0.016      -0.005\n",
      "jobopenings_agg  1.386e-08   1.95e-09      7.090      0.000    9.08e-09    1.86e-08\n",
      "==============================================================================\n",
      "Omnibus:                        4.121   Durbin-Watson:                   1.947\n",
      "Prob(Omnibus):                  0.127   Jarque-Bera (JB):                1.217\n",
      "Skew:                           0.948   Prob(JB):                        0.544\n",
      "Kurtosis:                       3.246   Cond. No.                     3.76e+06\n",
      "==============================================================================\n",
      "\n",
      "Notes:\n",
      "[1] Standard Errors assume that the covariance matrix of the errors is correctly specified.\n",
      "[2] The condition number is large, 3.76e+06. This might indicate that there are\n",
      "strong multicollinearity or other numerical problems.\n"
     ]
    }
   ],
   "source": [
    "model = smf.ols(formula='JULIA ~ jobopenings_agg', data=subset_data).fit()\n",
    "\n",
    "# model summary\n",
    "print(model.summary())"
   ]
  },
  {
   "cell_type": "markdown",
   "id": "62e7cf4b",
   "metadata": {},
   "source": [
    "Analyzing the Ordinary Least Squares (OLS) Regression Results, we find key observations. The R-squared value is approximately 0.893, suggesting that around 89.3% of the variability in the proportion of individuals skilled in Julia is accounted for by the number of job openings. The Adjusted R-squared value, which compensates for the number of predictors, is similarly high at 0.876.\n",
    "\n",
    "The F-statistic, assessing the overall fit of the model, is 50.27. The associated p-value is 0.000395, significantly lower than the typical significance level of 0.05. This provides strong evidence that the number of job openings significantly influences the proportion of individuals skilled in Julia.\n",
    "\n",
    "Observing the regression coefficients, the Intercept value stands at -0.0103, while the coefficient for job openings is approximately 1.386e-08. This indicates that for each additional job opening, we predict a corresponding small increase in the proportion of individuals skilled in Julia, assuming all other variables are held constant.\n",
    "\n",
    "The standard errors offer an estimate of uncertainty surrounding these coefficient estimates, with the associated t-values and p-values testing the hypothesis that each individual coefficient differs from zero."
   ]
  },
  {
   "cell_type": "markdown",
   "id": "816a28fb",
   "metadata": {},
   "source": [
    "#### Our predictions:\n",
    "At the 0.05 significance level (alpha), the p-value for the 'jobopenings_agg' coefficient is less than alpha. Hence, we reject the null hypothesis, signifying a statistically significant relationship between the proportion of individuals skilled in Julia and the number of job openings."
   ]
  },
  {
   "cell_type": "markdown",
   "id": "d6291dd3",
   "metadata": {},
   "source": [
    "### Language Skill: MATLAB"
   ]
  },
  {
   "cell_type": "markdown",
   "id": "2489c469",
   "metadata": {},
   "source": [
    "Next, we focused on the relationship between the fraction of individuals possessing MATLAB skills and the number of aggregated job openings. We extracted the MATLAB and jobopenings_agg columns from our data, then normalized the MATLAB values by dividing them by the total quantity of skills in each row."
   ]
  },
  {
   "cell_type": "code",
   "execution_count": 12,
   "id": "d4bb79c9",
   "metadata": {},
   "outputs": [
    {
     "data": {
      "text/html": [
       "<div>\n",
       "<style scoped>\n",
       "    .dataframe tbody tr th:only-of-type {\n",
       "        vertical-align: middle;\n",
       "    }\n",
       "\n",
       "    .dataframe tbody tr th {\n",
       "        vertical-align: top;\n",
       "    }\n",
       "\n",
       "    .dataframe thead th {\n",
       "        text-align: right;\n",
       "    }\n",
       "</style>\n",
       "<table border=\"1\" class=\"dataframe\">\n",
       "  <thead>\n",
       "    <tr style=\"text-align: right;\">\n",
       "      <th></th>\n",
       "      <th>MATLAB</th>\n",
       "      <th>jobopenings_agg</th>\n",
       "    </tr>\n",
       "  </thead>\n",
       "  <tbody>\n",
       "    <tr>\n",
       "      <th>0</th>\n",
       "      <td>0.001334</td>\n",
       "      <td>667832.0</td>\n",
       "    </tr>\n",
       "    <tr>\n",
       "      <th>1</th>\n",
       "      <td>0.000785</td>\n",
       "      <td>784846.0</td>\n",
       "    </tr>\n",
       "    <tr>\n",
       "      <th>2</th>\n",
       "      <td>0.000000</td>\n",
       "      <td>913536.0</td>\n",
       "    </tr>\n",
       "    <tr>\n",
       "      <th>3</th>\n",
       "      <td>0.028592</td>\n",
       "      <td>961278.0</td>\n",
       "    </tr>\n",
       "    <tr>\n",
       "      <th>4</th>\n",
       "      <td>0.030530</td>\n",
       "      <td>1007397.0</td>\n",
       "    </tr>\n",
       "  </tbody>\n",
       "</table>\n",
       "</div>"
      ],
      "text/plain": [
       "     MATLAB  jobopenings_agg\n",
       "0  0.001334         667832.0\n",
       "1  0.000785         784846.0\n",
       "2  0.000000         913536.0\n",
       "3  0.028592         961278.0\n",
       "4  0.030530        1007397.0"
      ]
     },
     "execution_count": 12,
     "metadata": {},
     "output_type": "execute_result"
    }
   ],
   "source": [
    "subset_data = data.loc[:, ['MATLAB', 'jobopenings_agg']]\n",
    "subset_data['MATLAB'] /= data.qty.values\n",
    "subset_data.head()"
   ]
  },
  {
   "cell_type": "code",
   "execution_count": 13,
   "id": "eb3e4dc4",
   "metadata": {},
   "outputs": [
    {
     "data": {
      "image/png": "[encoded data removed]",
      "text/plain": [
       "<Figure size 640x480 with 1 Axes>"
      ]
     },
     "metadata": {},
     "output_type": "display_data"
    }
   ],
   "source": [
    "sns.regplot(x='MATLAB', y='jobopenings_agg', data=subset_data)\n",
    " \n",
    "plt.show()"
   ]
  },
  {
   "cell_type": "markdown",
   "id": "60ab147c",
   "metadata": {},
   "source": [
    "### Setting a hypothesis.\n",
    "\n",
    "- Null hypothesis (H0): There is no relationship between the fraction of person MATLAB skilled and the job opening.\n",
    "- Alternative hypothesis (Ha): There is a relationship between the fraction of person MATLAB skilled and the job opening."
   ]
  },
  {
   "cell_type": "markdown",
   "id": "0c0281dd",
   "metadata": {},
   "source": [
    "We proposed two hypotheses: the null hypothesis (H0) posited no relationship between the fraction of people proficient in MATLAB and the number of job openings, while the alternative hypothesis (Ha) suggested that such a relationship exists.\n",
    "\n",
    "To assess these hypotheses, we employed the Ordinary Least Squares (OLS) regression method, modeling the relationship between the fraction of individuals skilled in MATLAB and the number of job openings."
   ]
  },
  {
   "cell_type": "code",
   "execution_count": 14,
   "id": "a4519817",
   "metadata": {},
   "outputs": [
    {
     "name": "stdout",
     "output_type": "stream",
     "text": [
      "                            OLS Regression Results                            \n",
      "==============================================================================\n",
      "Dep. Variable:                 MATLAB   R-squared:                       0.601\n",
      "Model:                            OLS   Adj. R-squared:                  0.534\n",
      "Method:                 Least Squares   F-statistic:                     9.026\n",
      "Date:                Sat, 27 May 2023   Prob (F-statistic):             0.0239\n",
      "Time:                        11:08:28   Log-Likelihood:                 23.983\n",
      "No. Observations:                   8   AIC:                            -43.97\n",
      "Df Residuals:                       6   BIC:                            -43.81\n",
      "Df Model:                           1                                         \n",
      "Covariance Type:            nonrobust                                         \n",
      "===================================================================================\n",
      "                      coef    std err          t      P>|t|      [0.025      0.975]\n",
      "-----------------------------------------------------------------------------------\n",
      "Intercept          -0.0194      0.015     -1.268      0.252      -0.057       0.018\n",
      "jobopenings_agg   3.89e-08   1.29e-08      3.004      0.024    7.22e-09    7.06e-08\n",
      "==============================================================================\n",
      "Omnibus:                        1.133   Durbin-Watson:                   1.181\n",
      "Prob(Omnibus):                  0.568   Jarque-Bera (JB):                0.656\n",
      "Skew:                           0.250   Prob(JB):                        0.720\n",
      "Kurtosis:                       1.689   Cond. No.                     3.68e+06\n",
      "==============================================================================\n",
      "\n",
      "Notes:\n",
      "[1] Standard Errors assume that the covariance matrix of the errors is correctly specified.\n",
      "[2] The condition number is large, 3.68e+06. This might indicate that there are\n",
      "strong multicollinearity or other numerical problems.\n"
     ]
    }
   ],
   "source": [
    "model = smf.ols(formula='MATLAB ~ jobopenings_agg', data=subset_data).fit()\n",
    "\n",
    "# model summary\n",
    "print(model.summary())"
   ]
  },
  {
   "cell_type": "markdown",
   "id": "577a4b77",
   "metadata": {},
   "source": [
    "Our OLS regression results indicated an R-squared value of 0.601. This suggests that approximately 60.1% of the variability in the fraction of individuals with MATLAB skills can be accounted for by the variability in job openings - a reasonably robust correlation.\n",
    "\n",
    "Furthermore, the p-value associated with the jobopenings_agg variable was found to be 0.024, less than our chosen significance level (alpha) of 0.05. This means that the number of job openings does appear to have a statistically significant effect on the fraction of individuals with MATLAB skills."
   ]
  },
  {
   "cell_type": "markdown",
   "id": "a16a66cb",
   "metadata": {},
   "source": [
    "#### Our predictions:\n",
    "Based on these findings, at the 0.05 significance level, we would reject the null hypothesis. This implies that there is a statistically significant relationship between the fraction of individuals skilled in MATLAB and the number of job openings."
   ]
  },
  {
   "cell_type": "markdown",
   "id": "f011c7ea",
   "metadata": {},
   "source": [
    "### Language Skill: PHP"
   ]
  },
  {
   "cell_type": "markdown",
   "id": "23400469",
   "metadata": {},
   "source": [
    "In the followinganalysis, we explore the correlation between the fraction of people skilled in PHP and the quantity of job openings. We select the 'PHP' and 'jobopenings_agg' columns from our dataset, and we normalize the 'PHP' column by dividing by the total quantity of recorded skills per row. This gives us the fraction of PHP skills for each row."
   ]
  },
  {
   "cell_type": "code",
   "execution_count": 15,
   "id": "f793d370",
   "metadata": {},
   "outputs": [
    {
     "data": {
      "text/html": [
       "<div>\n",
       "<style scoped>\n",
       "    .dataframe tbody tr th:only-of-type {\n",
       "        vertical-align: middle;\n",
       "    }\n",
       "\n",
       "    .dataframe tbody tr th {\n",
       "        vertical-align: top;\n",
       "    }\n",
       "\n",
       "    .dataframe thead th {\n",
       "        text-align: right;\n",
       "    }\n",
       "</style>\n",
       "<table border=\"1\" class=\"dataframe\">\n",
       "  <thead>\n",
       "    <tr style=\"text-align: right;\">\n",
       "      <th></th>\n",
       "      <th>PHP</th>\n",
       "      <th>jobopenings_agg</th>\n",
       "    </tr>\n",
       "  </thead>\n",
       "  <tbody>\n",
       "    <tr>\n",
       "      <th>0</th>\n",
       "      <td>0.000103</td>\n",
       "      <td>667832.0</td>\n",
       "    </tr>\n",
       "    <tr>\n",
       "      <th>1</th>\n",
       "      <td>0.000262</td>\n",
       "      <td>784846.0</td>\n",
       "    </tr>\n",
       "    <tr>\n",
       "      <th>2</th>\n",
       "      <td>0.000000</td>\n",
       "      <td>913536.0</td>\n",
       "    </tr>\n",
       "    <tr>\n",
       "      <th>3</th>\n",
       "      <td>0.228092</td>\n",
       "      <td>961278.0</td>\n",
       "    </tr>\n",
       "    <tr>\n",
       "      <th>4</th>\n",
       "      <td>0.200226</td>\n",
       "      <td>1007397.0</td>\n",
       "    </tr>\n",
       "  </tbody>\n",
       "</table>\n",
       "</div>"
      ],
      "text/plain": [
       "        PHP  jobopenings_agg\n",
       "0  0.000103         667832.0\n",
       "1  0.000262         784846.0\n",
       "2  0.000000         913536.0\n",
       "3  0.228092         961278.0\n",
       "4  0.200226        1007397.0"
      ]
     },
     "execution_count": 15,
     "metadata": {},
     "output_type": "execute_result"
    }
   ],
   "source": [
    "subset_data = data.loc[:, ['PHP', 'jobopenings_agg']]\n",
    "subset_data['PHP'] /= data.qty.values\n",
    "subset_data.head()"
   ]
  },
  {
   "cell_type": "code",
   "execution_count": 16,
   "id": "0f078a4d",
   "metadata": {},
   "outputs": [
    {
     "data": {
      "image/png": "[encoded data removed]",
      "text/plain": [
       "<Figure size 640x480 with 1 Axes>"
      ]
     },
     "metadata": {},
     "output_type": "display_data"
    }
   ],
   "source": [
    "sns.regplot(x='PHP', y='jobopenings_agg', data=subset_data)\n",
    " \n",
    "plt.show()"
   ]
  },
  {
   "cell_type": "markdown",
   "id": "c4f9588e",
   "metadata": {},
   "source": [
    "### Setting a hypothesis.\n",
    "\n",
    "- Null hypothesis (H0): There is no relationship between the fraction of person PHP skilled and the job opening.\n",
    "- Alternative hypothesis (Ha): There is a relationship between the fraction of person PHP skilled and the job opening."
   ]
  },
  {
   "cell_type": "markdown",
   "id": "ab2586a3",
   "metadata": {},
   "source": [
    "Our null hypothesis (H0) assumes no relationship between the fraction of individuals skilled in PHP and the number of job openings. In contrast, the alternative hypothesis (Ha) posits that such a relationship does exist. To test these hypotheses, we employ the Ordinary Least Squares (OLS) regression method to model the relationship between the fraction of individuals with PHP skills and the number of job openings."
   ]
  },
  {
   "cell_type": "code",
   "execution_count": 17,
   "id": "79082147",
   "metadata": {},
   "outputs": [
    {
     "name": "stdout",
     "output_type": "stream",
     "text": [
      "                            OLS Regression Results                            \n",
      "==============================================================================\n",
      "Dep. Variable:                    PHP   R-squared:                       0.332\n",
      "Model:                            OLS   Adj. R-squared:                  0.249\n",
      "Method:                 Least Squares   F-statistic:                     3.985\n",
      "Date:                Sat, 27 May 2023   Prob (F-statistic):             0.0810\n",
      "Time:                        11:08:30   Log-Likelihood:                 10.377\n",
      "No. Observations:                  10   AIC:                            -16.75\n",
      "Df Residuals:                       8   BIC:                            -16.15\n",
      "Df Model:                           1                                         \n",
      "Covariance Type:            nonrobust                                         \n",
      "===================================================================================\n",
      "                      coef    std err          t      P>|t|      [0.025      0.975]\n",
      "-----------------------------------------------------------------------------------\n",
      "Intercept          -0.0395      0.104     -0.381      0.713      -0.279       0.200\n",
      "jobopenings_agg   1.77e-07   8.87e-08      1.996      0.081   -2.75e-08    3.81e-07\n",
      "==============================================================================\n",
      "Omnibus:                        6.377   Durbin-Watson:                   0.922\n",
      "Prob(Omnibus):                  0.041   Jarque-Bera (JB):                1.329\n",
      "Skew:                          -0.131   Prob(JB):                        0.514\n",
      "Kurtosis:                       1.233   Cond. No.                     4.00e+06\n",
      "==============================================================================\n",
      "\n",
      "Notes:\n",
      "[1] Standard Errors assume that the covariance matrix of the errors is correctly specified.\n",
      "[2] The condition number is large,  4e+06. This might indicate that there are\n",
      "strong multicollinearity or other numerical problems.\n"
     ]
    }
   ],
   "source": [
    "model = smf.ols(formula='PHP ~ jobopenings_agg', data=subset_data).fit()\n",
    "\n",
    "# model summary\n",
    "print(model.summary())"
   ]
  },
  {
   "cell_type": "markdown",
   "id": "9b2c1f6b",
   "metadata": {},
   "source": [
    "According to our OLS regression results, we get an R-squared value of 0.332. This indicates that about 33.2% of the variance in the fraction of individuals skilled in PHP can be explained by the variance in job openings. The p-value for the job openings aggregate, at 0.081, is greater than our significance level of 0.05. This means we cannot reject the null hypothesis."
   ]
  },
  {
   "cell_type": "markdown",
   "id": "4ae3ab5f",
   "metadata": {},
   "source": [
    "#### Our predictions:\n",
    "\n",
    "Our statistical analysis for the language skill PHP resulted in a p-value of 0.081, which is greater than our chosen significance level of 0.05. This means we do not have sufficient evidence to reject the null hypothesis. Hence, we can't conclusively say that there is a significant relationship between the fraction of people skilled in PHP and the number of job openings based on our analysis. We therefore maintain the status quo and do not reject the null hypothesis. This, however, does not necessarily mean that there's absolutely no relationship; it simply means we don't have enough statistical evidence from this particular analysis to prove it."
   ]
  },
  {
   "cell_type": "markdown",
   "id": "80cad3ea",
   "metadata": {},
   "source": [
    "### Language Skill: Python"
   ]
  },
  {
   "cell_type": "markdown",
   "id": "7fea99b7",
   "metadata": {},
   "source": [
    "Furthermore, we subset the dataset to focus on the 'PYTHON' and 'jobopenings_agg' variables, with 'PYTHON' values being divided by 'qty' to represent the fraction of individuals with Python skills. The head of this processed dataset shows the fraction of Python-skilled individuals and the number of job openings for the first few data entries. This data is visualized with a scatter plot, showing potential trends between Python skills and job openings."
   ]
  },
  {
   "cell_type": "code",
   "execution_count": 18,
   "id": "8398f60f",
   "metadata": {},
   "outputs": [
    {
     "data": {
      "text/html": [
       "<div>\n",
       "<style scoped>\n",
       "    .dataframe tbody tr th:only-of-type {\n",
       "        vertical-align: middle;\n",
       "    }\n",
       "\n",
       "    .dataframe tbody tr th {\n",
       "        vertical-align: top;\n",
       "    }\n",
       "\n",
       "    .dataframe thead th {\n",
       "        text-align: right;\n",
       "    }\n",
       "</style>\n",
       "<table border=\"1\" class=\"dataframe\">\n",
       "  <thead>\n",
       "    <tr style=\"text-align: right;\">\n",
       "      <th></th>\n",
       "      <th>PYTHON</th>\n",
       "      <th>jobopenings_agg</th>\n",
       "    </tr>\n",
       "  </thead>\n",
       "  <tbody>\n",
       "    <tr>\n",
       "      <th>0</th>\n",
       "      <td>0.000103</td>\n",
       "      <td>667832.0</td>\n",
       "    </tr>\n",
       "    <tr>\n",
       "      <th>1</th>\n",
       "      <td>0.000392</td>\n",
       "      <td>784846.0</td>\n",
       "    </tr>\n",
       "    <tr>\n",
       "      <th>2</th>\n",
       "      <td>0.000000</td>\n",
       "      <td>913536.0</td>\n",
       "    </tr>\n",
       "    <tr>\n",
       "      <th>3</th>\n",
       "      <td>0.219204</td>\n",
       "      <td>961278.0</td>\n",
       "    </tr>\n",
       "    <tr>\n",
       "      <th>4</th>\n",
       "      <td>0.227740</td>\n",
       "      <td>1007397.0</td>\n",
       "    </tr>\n",
       "  </tbody>\n",
       "</table>\n",
       "</div>"
      ],
      "text/plain": [
       "     PYTHON  jobopenings_agg\n",
       "0  0.000103         667832.0\n",
       "1  0.000392         784846.0\n",
       "2  0.000000         913536.0\n",
       "3  0.219204         961278.0\n",
       "4  0.227740        1007397.0"
      ]
     },
     "execution_count": 18,
     "metadata": {},
     "output_type": "execute_result"
    }
   ],
   "source": [
    "subset_data = data.loc[:, ['PYTHON', 'jobopenings_agg']]\n",
    "subset_data['PYTHON'] /= data.qty.values\n",
    "subset_data.head()"
   ]
  },
  {
   "cell_type": "code",
   "execution_count": 19,
   "id": "5c3d778f",
   "metadata": {},
   "outputs": [
    {
     "data": {
      "image/png": "[encoded data removed]",
      "text/plain": [
       "<Figure size 640x480 with 1 Axes>"
      ]
     },
     "metadata": {},
     "output_type": "display_data"
    }
   ],
   "source": [
    "sns.regplot(x='PYTHON', y='jobopenings_agg', data=subset_data)\n",
    " \n",
    "plt.show()"
   ]
  },
  {
   "cell_type": "markdown",
   "id": "d564b83a",
   "metadata": {},
   "source": [
    "### Setting a hypothesis.\n",
    "\n",
    "- Null hypothesis (H0): There is no relationship between the fraction of person Python skilled and the job opening.\n",
    "- Alternative hypothesis (Ha): There is a relationship between the fraction of person Python skilled and the job opening."
   ]
  },
  {
   "cell_type": "markdown",
   "id": "0a080623",
   "metadata": {},
   "source": [
    "We set our hypotheses as follows: The null hypothesis assumes no relationship between the fraction of individuals skilled in Python and the job openings, while the alternative hypothesis assumes a relationship does exist."
   ]
  },
  {
   "cell_type": "code",
   "execution_count": 20,
   "id": "9670e5ba",
   "metadata": {},
   "outputs": [
    {
     "name": "stdout",
     "output_type": "stream",
     "text": [
      "                            OLS Regression Results                            \n",
      "==============================================================================\n",
      "Dep. Variable:                 PYTHON   R-squared:                       0.703\n",
      "Model:                            OLS   Adj. R-squared:                  0.665\n",
      "Method:                 Least Squares   F-statistic:                     18.89\n",
      "Date:                Sat, 27 May 2023   Prob (F-statistic):            0.00246\n",
      "Time:                        11:08:31   Log-Likelihood:                 8.8383\n",
      "No. Observations:                  10   AIC:                            -13.68\n",
      "Df Residuals:                       8   BIC:                            -13.07\n",
      "Df Model:                           1                                         \n",
      "Covariance Type:            nonrobust                                         \n",
      "===================================================================================\n",
      "                      coef    std err          t      P>|t|      [0.025      0.975]\n",
      "-----------------------------------------------------------------------------------\n",
      "Intercept          -0.2526      0.121     -2.089      0.070      -0.531       0.026\n",
      "jobopenings_agg  4.495e-07   1.03e-07      4.346      0.002    2.11e-07    6.88e-07\n",
      "==============================================================================\n",
      "Omnibus:                        0.216   Durbin-Watson:                   0.995\n",
      "Prob(Omnibus):                  0.898   Jarque-Bera (JB):                0.380\n",
      "Skew:                           0.197   Prob(JB):                        0.827\n",
      "Kurtosis:                       2.130   Cond. No.                     4.00e+06\n",
      "==============================================================================\n",
      "\n",
      "Notes:\n",
      "[1] Standard Errors assume that the covariance matrix of the errors is correctly specified.\n",
      "[2] The condition number is large,  4e+06. This might indicate that there are\n",
      "strong multicollinearity or other numerical problems.\n"
     ]
    }
   ],
   "source": [
    "model = smf.ols(formula='PYTHON ~ jobopenings_agg', data=subset_data).fit()\n",
    "\n",
    "# model summary\n",
    "print(model.summary())"
   ]
  },
  {
   "cell_type": "markdown",
   "id": "839e2706",
   "metadata": {},
   "source": [
    "The results from the ordinary least squares (OLS) regression indicate that approximately 70.3% of the variation in the fraction of Python-skilled individuals can be explained by the number of job openings. Our model's p-value is 0.00246, which is less than our predetermined significance level of 0.05."
   ]
  },
  {
   "cell_type": "markdown",
   "id": "6ee461f6",
   "metadata": {},
   "source": [
    "#### Our predictions:\n",
    "\n",
    "Our conclusion based on this analysis: given our alpha of 0.05, we reject the null hypothesis as our p-value is less than 0.05. This provides evidence to suggest a significant relationship between the fraction of individuals skilled in Python and the number of job openings."
   ]
  },
  {
   "cell_type": "markdown",
   "id": "9b48b094",
   "metadata": {},
   "source": [
    "### Language Skill: R"
   ]
  },
  {
   "cell_type": "markdown",
   "id": "6f75fb0a",
   "metadata": {},
   "source": [
    "Finally, We begin by subsetting the dataset, focusing on 'R' and 'jobopenings_agg'. The 'R' values are divided by 'qty' to generate the fraction of individuals skilled in R. The first few entries of this adjusted dataset display the fraction of R-skilled individuals and the count of job openings. We visualized this data using a scatter plot to help reveal any apparent trends between R skills and job openings."
   ]
  },
  {
   "cell_type": "code",
   "execution_count": 21,
   "id": "a2415040",
   "metadata": {},
   "outputs": [
    {
     "data": {
      "text/html": [
       "<div>\n",
       "<style scoped>\n",
       "    .dataframe tbody tr th:only-of-type {\n",
       "        vertical-align: middle;\n",
       "    }\n",
       "\n",
       "    .dataframe tbody tr th {\n",
       "        vertical-align: top;\n",
       "    }\n",
       "\n",
       "    .dataframe thead th {\n",
       "        text-align: right;\n",
       "    }\n",
       "</style>\n",
       "<table border=\"1\" class=\"dataframe\">\n",
       "  <thead>\n",
       "    <tr style=\"text-align: right;\">\n",
       "      <th></th>\n",
       "      <th>R</th>\n",
       "      <th>jobopenings_agg</th>\n",
       "    </tr>\n",
       "  </thead>\n",
       "  <tbody>\n",
       "    <tr>\n",
       "      <th>0</th>\n",
       "      <td>0.000205</td>\n",
       "      <td>667832.0</td>\n",
       "    </tr>\n",
       "    <tr>\n",
       "      <th>1</th>\n",
       "      <td>0.006149</td>\n",
       "      <td>784846.0</td>\n",
       "    </tr>\n",
       "    <tr>\n",
       "      <th>2</th>\n",
       "      <td>0.000000</td>\n",
       "      <td>913536.0</td>\n",
       "    </tr>\n",
       "    <tr>\n",
       "      <th>3</th>\n",
       "      <td>0.029127</td>\n",
       "      <td>961278.0</td>\n",
       "    </tr>\n",
       "    <tr>\n",
       "      <th>4</th>\n",
       "      <td>0.031795</td>\n",
       "      <td>1007397.0</td>\n",
       "    </tr>\n",
       "  </tbody>\n",
       "</table>\n",
       "</div>"
      ],
      "text/plain": [
       "          R  jobopenings_agg\n",
       "0  0.000205         667832.0\n",
       "1  0.006149         784846.0\n",
       "2  0.000000         913536.0\n",
       "3  0.029127         961278.0\n",
       "4  0.031795        1007397.0"
      ]
     },
     "execution_count": 21,
     "metadata": {},
     "output_type": "execute_result"
    }
   ],
   "source": [
    "subset_data = data.loc[:, ['R', 'jobopenings_agg']]\n",
    "subset_data['R'] /= data.qty.values\n",
    "subset_data.head()"
   ]
  },
  {
   "cell_type": "code",
   "execution_count": 22,
   "id": "9106d3c4",
   "metadata": {},
   "outputs": [
    {
     "data": {
      "image/png": "[encoded data removed]",
      "text/plain": [
       "<Figure size 640x480 with 1 Axes>"
      ]
     },
     "metadata": {},
     "output_type": "display_data"
    }
   ],
   "source": [
    "sns.regplot(x='R', y='jobopenings_agg', data=subset_data)\n",
    " \n",
    "plt.show()"
   ]
  },
  {
   "cell_type": "markdown",
   "id": "e801ddc8",
   "metadata": {},
   "source": [
    "### Setting a hypothesis.\n",
    "\n",
    "- Null hypothesis (H0): There is no relationship between the fraction of person R skilled and the job opening.\n",
    "- Alternative hypothesis (Ha): There is a relationship between the fraction of person R skilled and the job opening."
   ]
  },
  {
   "cell_type": "markdown",
   "id": "0ee9cbb7",
   "metadata": {},
   "source": [
    "Our hypotheses are set as follows: The null hypothesis (H0) suggests that there's no relationship between the fraction of individuals skilled in R and the number of job openings. The alternative hypothesis (Ha), on the other hand, posits that such a relationship does exist."
   ]
  },
  {
   "cell_type": "code",
   "execution_count": 23,
   "id": "be07bf20",
   "metadata": {},
   "outputs": [
    {
     "name": "stdout",
     "output_type": "stream",
     "text": [
      "                            OLS Regression Results                            \n",
      "==============================================================================\n",
      "Dep. Variable:                      R   R-squared:                       0.468\n",
      "Model:                            OLS   Adj. R-squared:                  0.402\n",
      "Method:                 Least Squares   F-statistic:                     7.049\n",
      "Date:                Sat, 27 May 2023   Prob (F-statistic):             0.0290\n",
      "Time:                        11:08:33   Log-Likelihood:                 27.536\n",
      "No. Observations:                  10   AIC:                            -51.07\n",
      "Df Residuals:                       8   BIC:                            -50.47\n",
      "Df Model:                           1                                         \n",
      "Covariance Type:            nonrobust                                         \n",
      "===================================================================================\n",
      "                      coef    std err          t      P>|t|      [0.025      0.975]\n",
      "-----------------------------------------------------------------------------------\n",
      "Intercept          -0.0154      0.019     -0.827      0.432      -0.058       0.028\n",
      "jobopenings_agg  4.233e-08   1.59e-08      2.655      0.029    5.56e-09    7.91e-08\n",
      "==============================================================================\n",
      "Omnibus:                        1.393   Durbin-Watson:                   0.789\n",
      "Prob(Omnibus):                  0.498   Jarque-Bera (JB):                0.732\n",
      "Skew:                           0.135   Prob(JB):                        0.693\n",
      "Kurtosis:                       1.702   Cond. No.                     4.00e+06\n",
      "==============================================================================\n",
      "\n",
      "Notes:\n",
      "[1] Standard Errors assume that the covariance matrix of the errors is correctly specified.\n",
      "[2] The condition number is large,  4e+06. This might indicate that there are\n",
      "strong multicollinearity or other numerical problems.\n"
     ]
    }
   ],
   "source": [
    "model = smf.ols(formula='R ~ jobopenings_agg', data=subset_data).fit()\n",
    "\n",
    "# model summary\n",
    "print(model.summary())"
   ]
  },
  {
   "cell_type": "markdown",
   "id": "9d73b464",
   "metadata": {},
   "source": [
    "The Ordinary Least Squares (OLS) regression results show that roughly 46.8% of the variation in the fraction of individuals skilled in R can be explained by the number of job openings. Importantly, the p-value for our model is 0.029, which is below our predetermined significance level of 0.05."
   ]
  },
  {
   "cell_type": "markdown",
   "id": "44252869",
   "metadata": {},
   "source": [
    "#### Our predictions:\n",
    "\n",
    "Our conclusion from this analysis: Given our alpha of 0.05, we reject the null hypothesis since the p-value is less than 0.05. Thus, there appears to be a significant relationship between the fraction of individuals skilled in R and the number of job openings."
   ]
  },
  {
   "cell_type": "markdown",
   "id": "718557ac",
   "metadata": {},
   "source": [
    "### Language Skill: JavaScript\n",
    "We subset the dataset to focus on the 'JAVASCRIPT' and 'jobopenings_agg' variables, with 'JAVASCRIPT'values being divided by 'qty' to represent the fraction of individuals with JavaScript skills.The head of this processed dataset shows the fraction of JavaScript-skilled individuals and the number of job openings for the first few data entries. This data is visualized with a scatter plot, showing potential trends between JavaScript skills and job openings."
   ]
  },
  {
   "cell_type": "code",
   "execution_count": 24,
   "id": "d7552f3e",
   "metadata": {},
   "outputs": [
    {
     "name": "stdout",
     "output_type": "stream",
     "text": [
      "   JAVASCRIPT  jobopenings_agg\n",
      "0    0.000103         667832.0\n",
      "1    0.495029         784846.0\n",
      "2    0.000000         913536.0\n",
      "3    0.488756         961278.0\n",
      "4    0.445108        1007397.0\n"
     ]
    }
   ],
   "source": [
    "subset_data = data.loc[:, ['JAVASCRIPT', 'jobopenings_agg']]\n",
    "subset_data['JAVASCRIPT'] /= data.qty.values\n",
    "print(subset_data.head())"
   ]
  },
  {
   "cell_type": "code",
   "execution_count": 25,
   "id": "c21a8998",
   "metadata": {},
   "outputs": [
    {
     "data": {
      "image/png": "[encoded data removed]",
      "text/plain": [
       "<Figure size 640x480 with 1 Axes>"
      ]
     },
     "metadata": {},
     "output_type": "display_data"
    }
   ],
   "source": [
    "sns.regplot(x='JAVASCRIPT', y='jobopenings_agg', data=subset_data)\n",
    "plt.show()"
   ]
  },
  {
   "cell_type": "markdown",
   "id": "55b054fb",
   "metadata": {},
   "source": [
    "### Setting a hypothesis.\n",
    "Null hypothesis (H0): There is no relationship between the fraction of persons skilled in JavaScript and the job opening.\n",
    "Alternative hypothesis (Ha): There is a relationship between the fraction of persons skilled in JavaScript and the job opening."
   ]
  },
  {
   "cell_type": "markdown",
   "id": "7ebe9369",
   "metadata": {},
   "source": [
    "We set our hypotheses as follows: The null hypothesis assumes no relationship between the fraction of individuals \n",
    "skilled in JavaScript and the job openings, while the alternative hypothesis assumes a relationship does exist."
   ]
  },
  {
   "cell_type": "code",
   "execution_count": 26,
   "id": "1739359f",
   "metadata": {},
   "outputs": [
    {
     "name": "stdout",
     "output_type": "stream",
     "text": [
      "                            OLS Regression Results                            \n",
      "==============================================================================\n",
      "Dep. Variable:             JAVASCRIPT   R-squared:                       0.397\n",
      "Model:                            OLS   Adj. R-squared:                  0.321\n",
      "Method:                 Least Squares   F-statistic:                     5.258\n",
      "Date:                Sat, 27 May 2023   Prob (F-statistic):             0.0510\n",
      "Time:                        11:08:34   Log-Likelihood:                 2.7506\n",
      "No. Observations:                  10   AIC:                            -1.501\n",
      "Df Residuals:                       8   BIC:                           -0.8959\n",
      "Df Model:                           1                                         \n",
      "Covariance Type:            nonrobust                                         \n",
      "===================================================================================\n",
      "                      coef    std err          t      P>|t|      [0.025      0.975]\n",
      "-----------------------------------------------------------------------------------\n",
      "Intercept          -0.0347      0.222     -0.156      0.880      -0.547       0.478\n",
      "jobopenings_agg  4.359e-07    1.9e-07      2.293      0.051   -2.48e-09    8.74e-07\n",
      "==============================================================================\n",
      "Omnibus:                        1.686   Durbin-Watson:                   2.349\n",
      "Prob(Omnibus):                  0.430   Jarque-Bera (JB):                1.135\n",
      "Skew:                          -0.738   Prob(JB):                        0.567\n",
      "Kurtosis:                       2.263   Cond. No.                     4.00e+06\n",
      "==============================================================================\n",
      "\n",
      "Notes:\n",
      "[1] Standard Errors assume that the covariance matrix of the errors is correctly specified.\n",
      "[2] The condition number is large,  4e+06. This might indicate that there are\n",
      "strong multicollinearity or other numerical problems.\n"
     ]
    }
   ],
   "source": [
    "model = smf.ols(formula='JAVASCRIPT ~ jobopenings_agg', data=subset_data).fit()\n",
    "\n",
    "# model summary\n",
    "print(model.summary())"
   ]
  },
  {
   "cell_type": "markdown",
   "id": "aa351c14",
   "metadata": {},
   "source": [
    "The results from the ordinary least squares (OLS) regression indicate that the R-squared value is 0.397, suggesting that approximately 39.7% of the variation in the fraction of JavaScript-skilled individuals can be explained by the number of job openings. The p-value of the model is 0.051, which is just slightly above the commonly used significance level of 0.05. "
   ]
  },
  {
   "cell_type": "markdown",
   "id": "d9c00c6a",
   "metadata": {},
   "source": [
    "#### Our predictions:\n",
    "Based on the results from our OLS regression, there appears to be a positive relationship between the fraction of individuals skilled in JavaScript and the number of job openings. However, the p-value slightly exceeds the standard threshold for statistical significance, leading to some uncertainty in our predictions.\n",
    "\n",
    "Our conclusion based on this analysis: Given our alpha of 0.05, we fail to reject the null hypothesis as our p-value (0.051) is just slightly above 0.05. This suggests that we do not have sufficient evidence to conclude a significant relationship between the fraction of individuals skilled in JavaScript and the number of job openings at the 0.05 significance level. Again, this conclusion is borderline, and the relationship might be statistically significant at a slightly higher significance level or with more data."
   ]
  },
  {
   "cell_type": "markdown",
   "id": "85d23e6f",
   "metadata": {},
   "source": [
    "### Language Skill: HTML/CSS\n",
    "Furthermore, we subset the dataset to focus on the 'HTML/CSS' and 'jobopenings_agg' variables, with 'HTML/CSS' values being divided by 'qty' to represent the fraction of individuals with HTML/CSS skills."
   ]
  },
  {
   "cell_type": "code",
   "execution_count": 27,
   "id": "e1ca2886",
   "metadata": {},
   "outputs": [],
   "source": [
    "# Renaming the column 'HTML/CSS' to 'HTML_CSS'\n",
    "data = data.rename(columns={'HTML/CSS': 'HTML_CSS'})"
   ]
  },
  {
   "cell_type": "code",
   "execution_count": 28,
   "id": "97fc2e41",
   "metadata": {},
   "outputs": [],
   "source": [
    "subset_data = data.loc[:, ['HTML_CSS', 'jobopenings_agg']]\n",
    "subset_data['HTML_CSS'] /= data.qty.values\n",
    "model = smf.ols(formula='HTML_CSS ~ jobopenings_agg', data=subset_data).fit()"
   ]
  },
  {
   "cell_type": "code",
   "execution_count": 29,
   "id": "be1a52d4",
   "metadata": {},
   "outputs": [
    {
     "name": "stdout",
     "output_type": "stream",
     "text": [
      "   HTML_CSS  jobopenings_agg\n",
      "0  0.000103         667832.0\n",
      "1  0.000392         784846.0\n",
      "2  0.000000         913536.0\n",
      "3       NaN         961278.0\n",
      "4       NaN        1007397.0\n"
     ]
    }
   ],
   "source": [
    "print(subset_data.head())"
   ]
  },
  {
   "cell_type": "code",
   "execution_count": 30,
   "id": "2d9239cf",
   "metadata": {},
   "outputs": [
    {
     "data": {
      "image/png": "[encoded data removed]",
      "text/plain": [
       "<Figure size 640x480 with 1 Axes>"
      ]
     },
     "metadata": {},
     "output_type": "display_data"
    }
   ],
   "source": [
    "sns.regplot(x='HTML_CSS', y='jobopenings_agg', data=subset_data)\n",
    "plt.show()"
   ]
  },
  {
   "cell_type": "markdown",
   "id": "d20af133",
   "metadata": {},
   "source": [
    "### Setting a hypothesis\n",
    "Null hypothesis (H0): There is no relationship between the fraction of person HTML/CSS skilled and the job opening.\n",
    "Alternative hypothesis (Ha): There is a relationship between the fraction of person HTML/CSS skilled and the job opening."
   ]
  },
  {
   "cell_type": "markdown",
   "id": "3e965d08",
   "metadata": {},
   "source": [
    "We set our hypotheses as follows: The null hypothesis assumes no relationship between the fraction of individuals skilled in HTML/CSS and the job openings, while the alternative hypothesis assumes a relationship does exist."
   ]
  },
  {
   "cell_type": "code",
   "execution_count": 31,
   "id": "37e29b24",
   "metadata": {},
   "outputs": [],
   "source": [
    "model = smf.ols(formula='HTML_CSS ~ jobopenings_agg', data=subset_data).fit()"
   ]
  },
  {
   "cell_type": "code",
   "execution_count": 32,
   "id": "a54fc7bd",
   "metadata": {},
   "outputs": [
    {
     "name": "stdout",
     "output_type": "stream",
     "text": [
      "                            OLS Regression Results                            \n",
      "==============================================================================\n",
      "Dep. Variable:               HTML_CSS   R-squared:                       0.549\n",
      "Model:                            OLS   Adj. R-squared:                  0.458\n",
      "Method:                 Least Squares   F-statistic:                     6.078\n",
      "Date:                Sat, 27 May 2023   Prob (F-statistic):             0.0569\n",
      "Time:                        11:08:37   Log-Likelihood:                 1.7029\n",
      "No. Observations:                   7   AIC:                            0.5943\n",
      "Df Residuals:                       5   BIC:                            0.4861\n",
      "Df Model:                           1                                         \n",
      "Covariance Type:            nonrobust                                         \n",
      "===================================================================================\n",
      "                      coef    std err          t      P>|t|      [0.025      0.975]\n",
      "-----------------------------------------------------------------------------------\n",
      "Intercept          -0.2753      0.258     -1.068      0.334      -0.938       0.387\n",
      "jobopenings_agg  5.224e-07   2.12e-07      2.465      0.057   -2.23e-08    1.07e-06\n",
      "==============================================================================\n",
      "Omnibus:                          nan   Durbin-Watson:                   1.429\n",
      "Prob(Omnibus):                    nan   Jarque-Bera (JB):                1.015\n",
      "Skew:                           0.715   Prob(JB):                        0.602\n",
      "Kurtosis:                       1.802   Cond. No.                     3.70e+06\n",
      "==============================================================================\n",
      "\n",
      "Notes:\n",
      "[1] Standard Errors assume that the covariance matrix of the errors is correctly specified.\n",
      "[2] The condition number is large, 3.7e+06. This might indicate that there are\n",
      "strong multicollinearity or other numerical problems.\n"
     ]
    },
    {
     "name": "stderr",
     "output_type": "stream",
     "text": [
      "C:\\Users\\User\\AppData\\Local\\Packages\\PythonSoftwareFoundation.Python.3.10_qbz5n2kfra8p0\\LocalCache\\local-packages\\Python310\\site-packages\\statsmodels\\stats\\stattools.py:74: ValueWarning: omni_normtest is not valid with less than 8 observations; 7 samples were given.\n",
      "  warn(\"omni_normtest is not valid with less than 8 observations; %i \"\n"
     ]
    }
   ],
   "source": [
    "print(model.summary())"
   ]
  },
  {
   "cell_type": "markdown",
   "id": "6787ecba",
   "metadata": {},
   "source": [
    "The Ordinary Least Squares (OLS) Regression Results provide us with a range of parameters for understanding the relationship between the proportion of individuals skilled in HTML/CSS and the number of job openings. The R-squared value is approximately 0.549, which means that about 54.9% of the variability in the 'HTML/CSS' variable can be explained by the number of job openings. However, the p-value for our model is slightly above the predetermined significance level of 0.05, standing at 0.0569.\n",
    "\n",
    "The F-statistic is a measure of the overall significance of the model, and it presents a value of 6.078. Its corresponding p-value slightly exceeds the significance level, suggesting that we must exercise caution when interpreting the results.\n",
    "\n",
    "Examining the coefficients, the intercept stands at -0.2753 while the coefficient for the job openings is around 5.224e-07. These figures suggest that with every additional job opening, the fraction of individuals skilled in HTML/CSS increases by a minute amount, given all else remains constant.\n",
    "\n",
    "The standard errors give us an estimate of the uncertainty around these coefficient estimates, while the corresponding t-values and p-values test the hypothesis that each coefficient differs from zero."
   ]
  },
  {
   "cell_type": "markdown",
   "id": "d6d910e6",
   "metadata": {},
   "source": [
    "#### Our predictions:"
   ]
  },
  {
   "cell_type": "markdown",
   "id": "f5ec64bd",
   "metadata": {},
   "source": [
    "At the 0.05 significance level, the p-value for the job openings coefficient slightly exceeds the alpha value. Therefore, we fail to reject the null hypothesis. This means we can't confidently conclude that a statistically significant relationship exists between the fraction of individuals skilled in HTML/CSS and the number of job openings based on the current dataset. However, the p-value is very close to our significance level. This nearness suggests a potential relationship between the fraction of individuals skilled in HTML/CSS and the number of job openings, but we need more data or stronger evidence to confirm this relationship with statistical certainty."
   ]
  },
  {
   "cell_type": "markdown",
   "id": "cf028fcf",
   "metadata": {},
   "source": [
    "### Note"
   ]
  },
  {
   "cell_type": "markdown",
   "id": "fc2b7116",
   "metadata": {},
   "source": [
    "Please remember that these conclusions are based on our data and may change with additional data or different statistical techniques. Also, note the high condition number, suggesting possible multicollinearity or other numerical problems, which could affect the reliability of the model's estimates."
   ]
  },
  {
   "cell_type": "markdown",
   "id": "4705cca2",
   "metadata": {},
   "source": [
    "### Hypothesis 3"
   ]
  },
  {
   "cell_type": "markdown",
   "id": "23e41d7d",
   "metadata": {},
   "source": [
    "Null Hypothesis: There is no non-linear relationship between JOLTS data for tech jobs and the frequency of language usage in Stack Overflow.\n",
    "\n",
    "Alternative Hypothesis: There is a non-linear relationship between JOLTS data for tech jobs and the frequency of language usage in Stack Overflow."
   ]
  },
  {
   "cell_type": "markdown",
   "id": "dcdf64c4",
   "metadata": {},
   "source": [
    "We applied OLS analysis with polynomial features to examine potential non-linear relationships. Several programming languages showed significant relationships with the quadratic term, suggesting that we reject the null hypothesis and accept the alternative hypothesis: There is a non-linear relationship between JOLTS data for tech jobs and the frequency of language usage in Stack Overflow."
   ]
  },
  {
   "cell_type": "markdown",
   "id": "4bfdb54c",
   "metadata": {},
   "source": [
    "### Hypothesis 4"
   ]
  },
  {
   "cell_type": "markdown",
   "id": "ba4c49fd",
   "metadata": {},
   "source": [
    "Null Hypothesis: There is no correlational relationship between JOLTS data for tech jobs and the frequency of language usage in Stack Overflow.\n",
    "\n",
    "Alternative Hypothesis: There is a correlational relationship between JOLTS data for tech jobs and the frequency of language usage in Stack Overflow."
   ]
  },
  {
   "cell_type": "markdown",
   "id": "8ed1b9d6",
   "metadata": {},
   "source": [
    "We found significant correlations between JOLTS data for tech jobs and the frequency of certain language usages in Stack Overflow. Thus, we reject the null hypothesis and accept the alternative hypothesis: There is a correlational relationship between JOLTS data for tech jobs and the frequency of language usage in Stack Overflow."
   ]
  },
  {
   "cell_type": "markdown",
   "id": "e5419b7a",
   "metadata": {},
   "source": [
    "### Hypothesis 5"
   ]
  },
  {
   "cell_type": "markdown",
   "id": "108f7467",
   "metadata": {},
   "source": [
    "Null Hypothesis: There is not a causal relationship between JOLTS data for tech jobs and the frequency of language usage in Stack Overflow.\n",
    "\n",
    "Alternative Hypothesis: There is a causal relationship between JOLTS data for tech jobs and the frequency of language usage in Stack Overflow."
   ]
  },
  {
   "cell_type": "markdown",
   "id": "54ce7f9c",
   "metadata": {},
   "source": [
    "While the OLS analysis indicated correlations between tech job openings and language usage, this is not enough to establish causality. Correlation does not imply causation; additional investigations, such as causal inference techniques, would be required to confirm a causal relationship. For the scope of this midterm project, we did not perform any causal analysis. Hence, we cannot accept or reject either hypothesis. More research is needed to determine if there's a causal relationship between JOLTS data for tech jobs and the frequency of language usage in Stack Overflow."
   ]
  },
  {
   "cell_type": "markdown",
   "id": "98e7c992",
   "metadata": {},
   "source": [
    "### Conclusion:\n",
    "We performed statistical analyses on the programming languages of Julia, MATLAB, PHP, Python, and R against job openings data. Our analyses were framed around testing two hypotheses: a null hypothesis suggesting that there is no relationship between the fraction of individuals skilled in a given language and the number of job openings, and an alternative hypothesis suggesting that such a relationship exists.\n",
    "\n",
    "For each programming language, we constructed a linear regression model and evaluated its p-value to determine whether to reject or fail to reject the null hypothesis. Here is a summary of the conclusions drawn from each analysis:\n",
    "\n",
    "Julia: The p-value was less than 0.05. We reject the null hypothesis. A relationship exists between the fraction of individuals skilled in Julia and job openings.\n",
    "\n",
    "MATLAB: The p-value was less than 0.05. We reject the null hypothesis. A relationship exists between the fraction of individuals skilled in MATLAB and job openings.\n",
    "\n",
    "PHP: The p-value was greater than 0.05. We fail to reject the null hypothesis. No discernible relationship exists between the fraction of individuals skilled in PHP and job openings.\n",
    "\n",
    "Python: The p-value was less than 0.05. We reject the null hypothesis. A relationship exists between the fraction of individuals skilled in Python and job openings.\n",
    "\n",
    "R: The p-value was less than 0.05. We reject the null hypothesis. A relationship exists between the fraction of individuals skilled in R and job openings.\n",
    "\n",
    "Based on these results, we can infer that the fraction of individuals skilled in Julia, MATLAB, Python, and R correlates with the number of job openings. For PHP, no significant correlation was detected."
   ]
  },
  {
   "cell_type": "markdown",
   "id": "9dfdc121",
   "metadata": {},
   "source": [
    "### Answering the Business Question:\n",
    "The purpose of our analysis was to help Skillzguid understand the job market demand for different programming languages. The intent was to guide the platform's decisions on which programming courses to prioritize and market aggressively.\n",
    "\n",
    "Our analysis suggests a correlation between job market demand and skill prevalence for four out of five languages evaluated: Julia, MATLAB, Python, and R. PHP appears to be an exception, showing no significant correlation.\n",
    "\n",
    "With this information, Skillzguid should consider prioritizing and marketing courses in Julia, MATLAB, Python, and R more aggressively, as these skills appear to have a high demand in the job market. Conversely, courses related to PHP might not need as much emphasis, given the lack of a significant correlation between skill prevalence and job market demand.\n",
    "\n",
    "Finally, it's important to remember that while this analysis provides some insight into market trends, other factors should be considered for comprehensive decision-making. These could include regional market differences, industry-specific demands, and the evolving nature of programming languages popularity."
   ]
  },
  {
   "cell_type": "markdown",
   "id": "7b85b688",
   "metadata": {},
   "source": [
    "### Recommendations for Students\n",
    "Given the findings from our analysis, we would like to provide some recommendations for students who are looking to improve their programming skills and enhance their career prospects.\n",
    "\n",
    "#### Julia, Python, R, and MATLAB are in demand\n",
    "Based on our analysis, these programming languages have a strong correlation with the number of job openings, indicating a high market demand. Students interested in roles that involve these languages may want to prioritize learning them.\n",
    "\n",
    "#### Consider the type of role you are interested in\n",
    "While Python and R are often used in data science roles, MATLAB is frequently used in engineering and scientific research roles. Julia, being a high-level, high-performance programming language for technical computing, is gaining popularity in the data science community. Consider the type of role and industry you're interested in when deciding which language to learn.\n",
    "\n",
    "#### Don't overlook PHP\n",
    "Although PHP did not show a significant correlation with the number of job openings in our study, it is still widely used in web development and remains an important skill in the tech industry. If you're interested in web development, PHP can be a valuable language to learn.\n",
    "\n",
    "#### Stay adaptable \n",
    "The demand for programming languages can change over time. Keep learning and stay adaptable. Having a diverse range of programming skills can make you more attractive to employers.\n",
    "\n",
    "By aligning your skills with current market demands, you can increase your chances of securing a job in your desired field. We hope these recommendations will guide you in your programming journey."
   ]
  }
 ],
 "metadata": {
  "kernelspec": {
   "display_name": "Python 3 (ipykernel)",
   "language": "python",
   "name": "python3"
  },
  "language_info": {
   "codemirror_mode": {
    "name": "ipython",
    "version": 3
   },
   "file_extension": ".py",
   "mimetype": "text/x-python",
   "name": "python",
   "nbconvert_exporter": "python",
   "pygments_lexer": "ipython3",
   "version": "3.10.11"
  }
 },
 "nbformat": 4,
 "nbformat_minor": 5
}
