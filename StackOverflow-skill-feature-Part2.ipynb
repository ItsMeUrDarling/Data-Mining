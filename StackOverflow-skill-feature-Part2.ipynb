{
 "cells": [
  {
   "cell_type": "markdown",
   "id": "7bc81d14",
   "metadata": {},
   "source": [
    "### Programming Skill Demand Analysis: A Market Study for Skillzguid"
   ]
  },
  {
   "cell_type": "markdown",
   "id": "1cf28897",
   "metadata": {},
   "source": [
    "### Introduction\n",
    "The primary focus of this project was to investigate the relationship between the prevalence of specific programming language skills and the demand for these skills in the job market. We sought to understand how the skill prevalence of five selected languages - Julia, MATLAB, PHP, Python, and R - correlates with the number of job openings requiring these skills.\n",
    "\n",
    "The purpose of our analysis was to provide our sponsor company, Skillzguid, with actionable insights into the job market demand for different programming languages. Skillzguid, an online learning platform offering various programming courses, wanted to understand the market's direction to inform their decisions on course prioritization and marketing strategy."
   ]
  },
  {
   "cell_type": "markdown",
   "id": "1f87bcd5",
   "metadata": {},
   "source": [
    "Stackoverflow dataset: https://insights.stackoverflow.com/survey?_ga=2.214150487.1325591965.1680843703-1734832329.1680843703\n",
    "\n",
    "JOLTS: https://download.bls.gov/pub/time.series/jt/"
   ]
  },
  {
   "cell_type": "markdown",
   "id": "14d6e213",
   "metadata": {},
   "source": [
    "### Business Questions\n",
    "Two primary business questions drove this research. First, is there a relationship between the fraction of individuals skilled in a specific programming language and the number of job openings requiring that skill? Secondly, based on this relationship, which programming languages should Skillzguid prioritize in its course offerings to meet job market demands?\n",
    "\n",
    "To answer these questions, we established a null hypothesis stating that there was no relationship between the fraction of individuals skilled in a particular programming language and the number of job openings. An alternative hypothesis suggested the contrary - that such a relationship does exist. We then used linear regression models to test these hypotheses."
   ]
  },
  {
   "cell_type": "markdown",
   "id": "3155b530",
   "metadata": {},
   "source": [
    "### Methodology and Findings\n",
    "For each programming language, we conducted an individual analysis. We built linear regression models to investigate the relationship between skill prevalence and job openings, and we evaluated these models based on their p-values to ascertain the validity of our hypotheses.\n",
    "\n",
    "Our findings revealed that for Julia, MATLAB, Python, and R, the p-value was less than 0.05, leading us to reject the null hypothesis. This suggests a relationship between the fraction of individuals skilled in these languages and job openings. However, for PHP, the p-value was greater than 0.05. In this case, we could not reject the null hypothesis, suggesting that no discernible relationship exists for PHP."
   ]
  },
  {
   "cell_type": "markdown",
   "id": "3ab78cae",
   "metadata": {},
   "source": [
    "#### Import the needed libraries"
   ]
  },
  {
   "cell_type": "code",
   "execution_count": 1,
   "id": "62748e3a",
   "metadata": {},
   "outputs": [],
   "source": [
    "import warnings\n",
    "\n",
    "warnings.filterwarnings(\"ignore\")\n",
    "warnings.simplefilter(action='ignore', category=FutureWarning)\n",
    "\n",
    "import numpy as np\n",
    "import pandas as pd\n",
    "import urllib.request\n",
    "import os\n",
    "import zipfile\n",
    "import matplotlib.pyplot as plt\n",
    "import statsmodels.api as sm\n",
    "import seaborn as sns\n",
    "import statsmodels.formula.api as smf"
   ]
  },
  {
   "cell_type": "markdown",
   "id": "62d2a56e",
   "metadata": {},
   "source": [
    "The script initiates by loading the dataset from a CSV file into a pandas DataFrame. This dataset is expected to contain information about job vacancies and the percentage of individuals competent in various programming languages."
   ]
  },
  {
   "cell_type": "code",
   "execution_count": 2,
   "id": "80a0a956",
   "metadata": {},
   "outputs": [
    {
     "data": {
      "text/html": [
       "<div>\n",
       "<style scoped>\n",
       "    .dataframe tbody tr th:only-of-type {\n",
       "        vertical-align: middle;\n",
       "    }\n",
       "\n",
       "    .dataframe tbody tr th {\n",
       "        vertical-align: top;\n",
       "    }\n",
       "\n",
       "    .dataframe thead th {\n",
       "        text-align: right;\n",
       "    }\n",
       "</style>\n",
       "<table border=\"1\" class=\"dataframe\">\n",
       "  <thead>\n",
       "    <tr style=\"text-align: right;\">\n",
       "      <th></th>\n",
       "      <th>PLAY FRAMEWORK</th>\n",
       "      <th>VUE.JS</th>\n",
       "      <th>SYMFONY</th>\n",
       "      <th>DJANGO</th>\n",
       "      <th>REACT.JS</th>\n",
       "      <th>NPM</th>\n",
       "      <th>SCIKIT-LEARN</th>\n",
       "      <th>SQL</th>\n",
       "      <th>TENSORFLOW</th>\n",
       "      <th>NUXT.JS</th>\n",
       "      <th>...</th>\n",
       "      <th>AMAZON WEB SERVICES (AWS)</th>\n",
       "      <th>SMALLTALK</th>\n",
       "      <th>LINUX DESKTOP</th>\n",
       "      <th>COMMON LISP</th>\n",
       "      <th>VISUAL BASIC</th>\n",
       "      <th>CLOUD (AWS, GAE, AZURE, ETC.)</th>\n",
       "      <th>LAMP</th>\n",
       "      <th>ARDUINO / RASPBERRY PI</th>\n",
       "      <th>REACTJS</th>\n",
       "      <th>jobopenings_agg</th>\n",
       "    </tr>\n",
       "  </thead>\n",
       "  <tbody>\n",
       "    <tr>\n",
       "      <th>0</th>\n",
       "      <td>0.0</td>\n",
       "      <td>0.0</td>\n",
       "      <td>0.0</td>\n",
       "      <td>1.0</td>\n",
       "      <td>0.0</td>\n",
       "      <td>0.0</td>\n",
       "      <td>0.0</td>\n",
       "      <td>1</td>\n",
       "      <td>0.0</td>\n",
       "      <td>0.0</td>\n",
       "      <td>...</td>\n",
       "      <td>0.0</td>\n",
       "      <td>4.0</td>\n",
       "      <td>0.0</td>\n",
       "      <td>3.0</td>\n",
       "      <td>12.0</td>\n",
       "      <td>0.0</td>\n",
       "      <td>0.0</td>\n",
       "      <td>0.0</td>\n",
       "      <td>0.0</td>\n",
       "      <td>667832.0</td>\n",
       "    </tr>\n",
       "    <tr>\n",
       "      <th>1</th>\n",
       "      <td>0.0</td>\n",
       "      <td>0.0</td>\n",
       "      <td>0.0</td>\n",
       "      <td>2.0</td>\n",
       "      <td>0.0</td>\n",
       "      <td>0.0</td>\n",
       "      <td>0.0</td>\n",
       "      <td>1</td>\n",
       "      <td>0.0</td>\n",
       "      <td>0.0</td>\n",
       "      <td>...</td>\n",
       "      <td>0.0</td>\n",
       "      <td>1.0</td>\n",
       "      <td>0.0</td>\n",
       "      <td>0.0</td>\n",
       "      <td>12.0</td>\n",
       "      <td>0.0</td>\n",
       "      <td>0.0</td>\n",
       "      <td>1827.0</td>\n",
       "      <td>0.0</td>\n",
       "      <td>784846.0</td>\n",
       "    </tr>\n",
       "    <tr>\n",
       "      <th>2</th>\n",
       "      <td>0.0</td>\n",
       "      <td>0.0</td>\n",
       "      <td>0.0</td>\n",
       "      <td>0.0</td>\n",
       "      <td>0.0</td>\n",
       "      <td>0.0</td>\n",
       "      <td>0.0</td>\n",
       "      <td>0</td>\n",
       "      <td>0.0</td>\n",
       "      <td>0.0</td>\n",
       "      <td>...</td>\n",
       "      <td>0.0</td>\n",
       "      <td>0.0</td>\n",
       "      <td>0.0</td>\n",
       "      <td>0.0</td>\n",
       "      <td>0.0</td>\n",
       "      <td>0.0</td>\n",
       "      <td>0.0</td>\n",
       "      <td>0.0</td>\n",
       "      <td>0.0</td>\n",
       "      <td>913536.0</td>\n",
       "    </tr>\n",
       "    <tr>\n",
       "      <th>3</th>\n",
       "      <td>NaN</td>\n",
       "      <td>NaN</td>\n",
       "      <td>NaN</td>\n",
       "      <td>NaN</td>\n",
       "      <td>NaN</td>\n",
       "      <td>NaN</td>\n",
       "      <td>NaN</td>\n",
       "      <td>21976</td>\n",
       "      <td>NaN</td>\n",
       "      <td>NaN</td>\n",
       "      <td>...</td>\n",
       "      <td>NaN</td>\n",
       "      <td>NaN</td>\n",
       "      <td>NaN</td>\n",
       "      <td>NaN</td>\n",
       "      <td>3312.0</td>\n",
       "      <td>4629.0</td>\n",
       "      <td>4821.0</td>\n",
       "      <td>3797.0</td>\n",
       "      <td>2541.0</td>\n",
       "      <td>961278.0</td>\n",
       "    </tr>\n",
       "    <tr>\n",
       "      <th>4</th>\n",
       "      <td>NaN</td>\n",
       "      <td>NaN</td>\n",
       "      <td>NaN</td>\n",
       "      <td>NaN</td>\n",
       "      <td>NaN</td>\n",
       "      <td>NaN</td>\n",
       "      <td>NaN</td>\n",
       "      <td>18754</td>\n",
       "      <td>NaN</td>\n",
       "      <td>NaN</td>\n",
       "      <td>...</td>\n",
       "      <td>8183.0</td>\n",
       "      <td>327.0</td>\n",
       "      <td>9593.0</td>\n",
       "      <td>273.0</td>\n",
       "      <td>NaN</td>\n",
       "      <td>NaN</td>\n",
       "      <td>NaN</td>\n",
       "      <td>NaN</td>\n",
       "      <td>NaN</td>\n",
       "      <td>1007397.0</td>\n",
       "    </tr>\n",
       "    <tr>\n",
       "      <th>5</th>\n",
       "      <td>NaN</td>\n",
       "      <td>NaN</td>\n",
       "      <td>NaN</td>\n",
       "      <td>6723.0</td>\n",
       "      <td>NaN</td>\n",
       "      <td>NaN</td>\n",
       "      <td>NaN</td>\n",
       "      <td>44670</td>\n",
       "      <td>4026.0</td>\n",
       "      <td>NaN</td>\n",
       "      <td>...</td>\n",
       "      <td>NaN</td>\n",
       "      <td>NaN</td>\n",
       "      <td>NaN</td>\n",
       "      <td>NaN</td>\n",
       "      <td>NaN</td>\n",
       "      <td>NaN</td>\n",
       "      <td>NaN</td>\n",
       "      <td>NaN</td>\n",
       "      <td>NaN</td>\n",
       "      <td>1170007.0</td>\n",
       "    </tr>\n",
       "    <tr>\n",
       "      <th>6</th>\n",
       "      <td>NaN</td>\n",
       "      <td>9671.0</td>\n",
       "      <td>NaN</td>\n",
       "      <td>8249.0</td>\n",
       "      <td>19877.0</td>\n",
       "      <td>NaN</td>\n",
       "      <td>NaN</td>\n",
       "      <td>47544</td>\n",
       "      <td>6009.0</td>\n",
       "      <td>NaN</td>\n",
       "      <td>...</td>\n",
       "      <td>NaN</td>\n",
       "      <td>NaN</td>\n",
       "      <td>NaN</td>\n",
       "      <td>NaN</td>\n",
       "      <td>NaN</td>\n",
       "      <td>NaN</td>\n",
       "      <td>NaN</td>\n",
       "      <td>NaN</td>\n",
       "      <td>NaN</td>\n",
       "      <td>1175220.0</td>\n",
       "    </tr>\n",
       "    <tr>\n",
       "      <th>7</th>\n",
       "      <td>NaN</td>\n",
       "      <td>7322.0</td>\n",
       "      <td>1851.0</td>\n",
       "      <td>6014.0</td>\n",
       "      <td>15167.0</td>\n",
       "      <td>NaN</td>\n",
       "      <td>NaN</td>\n",
       "      <td>31413</td>\n",
       "      <td>4652.0</td>\n",
       "      <td>NaN</td>\n",
       "      <td>...</td>\n",
       "      <td>NaN</td>\n",
       "      <td>NaN</td>\n",
       "      <td>NaN</td>\n",
       "      <td>NaN</td>\n",
       "      <td>NaN</td>\n",
       "      <td>NaN</td>\n",
       "      <td>NaN</td>\n",
       "      <td>NaN</td>\n",
       "      <td>NaN</td>\n",
       "      <td>1042112.0</td>\n",
       "    </tr>\n",
       "    <tr>\n",
       "      <th>8</th>\n",
       "      <td>NaN</td>\n",
       "      <td>11954.0</td>\n",
       "      <td>2427.0</td>\n",
       "      <td>9446.0</td>\n",
       "      <td>25296.0</td>\n",
       "      <td>NaN</td>\n",
       "      <td>NaN</td>\n",
       "      <td>38835</td>\n",
       "      <td>8034.0</td>\n",
       "      <td>NaN</td>\n",
       "      <td>...</td>\n",
       "      <td>NaN</td>\n",
       "      <td>NaN</td>\n",
       "      <td>NaN</td>\n",
       "      <td>NaN</td>\n",
       "      <td>NaN</td>\n",
       "      <td>NaN</td>\n",
       "      <td>NaN</td>\n",
       "      <td>NaN</td>\n",
       "      <td>NaN</td>\n",
       "      <td>1635705.0</td>\n",
       "    </tr>\n",
       "    <tr>\n",
       "      <th>9</th>\n",
       "      <td>450.0</td>\n",
       "      <td>10278.0</td>\n",
       "      <td>1955.0</td>\n",
       "      <td>8002.0</td>\n",
       "      <td>23277.0</td>\n",
       "      <td>35778.0</td>\n",
       "      <td>5776.0</td>\n",
       "      <td>35127</td>\n",
       "      <td>5942.0</td>\n",
       "      <td>2089.0</td>\n",
       "      <td>...</td>\n",
       "      <td>NaN</td>\n",
       "      <td>NaN</td>\n",
       "      <td>NaN</td>\n",
       "      <td>NaN</td>\n",
       "      <td>NaN</td>\n",
       "      <td>NaN</td>\n",
       "      <td>NaN</td>\n",
       "      <td>NaN</td>\n",
       "      <td>NaN</td>\n",
       "      <td>1822390.0</td>\n",
       "    </tr>\n",
       "  </tbody>\n",
       "</table>\n",
       "<p>10 rows × 212 columns</p>\n",
       "</div>"
      ],
      "text/plain": [
       "   PLAY FRAMEWORK   VUE.JS  SYMFONY  DJANGO  REACT.JS      NPM  SCIKIT-LEARN   \n",
       "0             0.0      0.0      0.0     1.0       0.0      0.0           0.0  \\\n",
       "1             0.0      0.0      0.0     2.0       0.0      0.0           0.0   \n",
       "2             0.0      0.0      0.0     0.0       0.0      0.0           0.0   \n",
       "3             NaN      NaN      NaN     NaN       NaN      NaN           NaN   \n",
       "4             NaN      NaN      NaN     NaN       NaN      NaN           NaN   \n",
       "5             NaN      NaN      NaN  6723.0       NaN      NaN           NaN   \n",
       "6             NaN   9671.0      NaN  8249.0   19877.0      NaN           NaN   \n",
       "7             NaN   7322.0   1851.0  6014.0   15167.0      NaN           NaN   \n",
       "8             NaN  11954.0   2427.0  9446.0   25296.0      NaN           NaN   \n",
       "9           450.0  10278.0   1955.0  8002.0   23277.0  35778.0        5776.0   \n",
       "\n",
       "     SQL  TENSORFLOW  NUXT.JS  ...  AMAZON WEB SERVICES (AWS)  SMALLTALK   \n",
       "0      1         0.0      0.0  ...                        0.0        4.0  \\\n",
       "1      1         0.0      0.0  ...                        0.0        1.0   \n",
       "2      0         0.0      0.0  ...                        0.0        0.0   \n",
       "3  21976         NaN      NaN  ...                        NaN        NaN   \n",
       "4  18754         NaN      NaN  ...                     8183.0      327.0   \n",
       "5  44670      4026.0      NaN  ...                        NaN        NaN   \n",
       "6  47544      6009.0      NaN  ...                        NaN        NaN   \n",
       "7  31413      4652.0      NaN  ...                        NaN        NaN   \n",
       "8  38835      8034.0      NaN  ...                        NaN        NaN   \n",
       "9  35127      5942.0   2089.0  ...                        NaN        NaN   \n",
       "\n",
       "   LINUX DESKTOP  COMMON LISP  VISUAL BASIC  CLOUD (AWS, GAE, AZURE, ETC.)   \n",
       "0            0.0          3.0          12.0                            0.0  \\\n",
       "1            0.0          0.0          12.0                            0.0   \n",
       "2            0.0          0.0           0.0                            0.0   \n",
       "3            NaN          NaN        3312.0                         4629.0   \n",
       "4         9593.0        273.0           NaN                            NaN   \n",
       "5            NaN          NaN           NaN                            NaN   \n",
       "6            NaN          NaN           NaN                            NaN   \n",
       "7            NaN          NaN           NaN                            NaN   \n",
       "8            NaN          NaN           NaN                            NaN   \n",
       "9            NaN          NaN           NaN                            NaN   \n",
       "\n",
       "     LAMP  ARDUINO / RASPBERRY PI  REACTJS  jobopenings_agg  \n",
       "0     0.0                     0.0      0.0         667832.0  \n",
       "1     0.0                  1827.0      0.0         784846.0  \n",
       "2     0.0                     0.0      0.0         913536.0  \n",
       "3  4821.0                  3797.0   2541.0         961278.0  \n",
       "4     NaN                     NaN      NaN        1007397.0  \n",
       "5     NaN                     NaN      NaN        1170007.0  \n",
       "6     NaN                     NaN      NaN        1175220.0  \n",
       "7     NaN                     NaN      NaN        1042112.0  \n",
       "8     NaN                     NaN      NaN        1635705.0  \n",
       "9     NaN                     NaN      NaN        1822390.0  \n",
       "\n",
       "[10 rows x 212 columns]"
      ]
     },
     "execution_count": 2,
     "metadata": {},
     "output_type": "execute_result"
    }
   ],
   "source": [
    "data = pd.read_csv('datasets/skills_jobopenings_dataset.csv')\n",
    "data"
   ]
  },
  {
   "cell_type": "markdown",
   "id": "fb56bbe3",
   "metadata": {},
   "source": [
    "### Language Skill: C\n",
    "In the provided Python script, the primary goal is to examine the association between the proportion of people skilled in the C programming language and the total count of job openings."
   ]
  },
  {
   "cell_type": "markdown",
   "id": "5bc03861",
   "metadata": {},
   "source": [
    "Following this, a subset of the data is created, which includes information solely about the C programming language and job openings. Subsequently, the proportion of people skilled in C is calculated."
   ]
  },
  {
   "cell_type": "code",
   "execution_count": 3,
   "id": "9157d6e2",
   "metadata": {},
   "outputs": [
    {
     "data": {
      "text/html": [
       "<div>\n",
       "<style scoped>\n",
       "    .dataframe tbody tr th:only-of-type {\n",
       "        vertical-align: middle;\n",
       "    }\n",
       "\n",
       "    .dataframe tbody tr th {\n",
       "        vertical-align: top;\n",
       "    }\n",
       "\n",
       "    .dataframe thead th {\n",
       "        text-align: right;\n",
       "    }\n",
       "</style>\n",
       "<table border=\"1\" class=\"dataframe\">\n",
       "  <thead>\n",
       "    <tr style=\"text-align: right;\">\n",
       "      <th></th>\n",
       "      <th>C</th>\n",
       "      <th>jobopenings_agg</th>\n",
       "    </tr>\n",
       "  </thead>\n",
       "  <tbody>\n",
       "    <tr>\n",
       "      <th>0</th>\n",
       "      <td>0.000000</td>\n",
       "      <td>667832.0</td>\n",
       "    </tr>\n",
       "    <tr>\n",
       "      <th>1</th>\n",
       "      <td>0.000131</td>\n",
       "      <td>784846.0</td>\n",
       "    </tr>\n",
       "    <tr>\n",
       "      <th>2</th>\n",
       "      <td>0.000000</td>\n",
       "      <td>913536.0</td>\n",
       "    </tr>\n",
       "    <tr>\n",
       "      <th>3</th>\n",
       "      <td>0.137034</td>\n",
       "      <td>961278.0</td>\n",
       "    </tr>\n",
       "    <tr>\n",
       "      <th>4</th>\n",
       "      <td>0.135702</td>\n",
       "      <td>1007397.0</td>\n",
       "    </tr>\n",
       "  </tbody>\n",
       "</table>\n",
       "</div>"
      ],
      "text/plain": [
       "          C  jobopenings_agg\n",
       "0  0.000000         667832.0\n",
       "1  0.000131         784846.0\n",
       "2  0.000000         913536.0\n",
       "3  0.137034         961278.0\n",
       "4  0.135702        1007397.0"
      ]
     },
     "execution_count": 3,
     "metadata": {},
     "output_type": "execute_result"
    }
   ],
   "source": [
    "subset_data = data.loc[:, ['C', 'jobopenings_agg']]\n",
    "subset_data['C'] /= data.qty.values\n",
    "subset_data.head()"
   ]
  },
  {
   "cell_type": "markdown",
   "id": "216d65ce",
   "metadata": {},
   "source": [
    "To visualize the data and get a sense of the relationship between C skills and job openings, a regression plot is created using seaborn's regplot function. The plot shows a scatter plot of the data with a regression line."
   ]
  },
  {
   "cell_type": "code",
   "execution_count": 4,
   "id": "ecfabefe",
   "metadata": {},
   "outputs": [
    {
     "data": {
      "image/png": "[encoded data removed]",
      "text/plain": [
       "<Figure size 640x480 with 1 Axes>"
      ]
     },
     "metadata": {},
     "output_type": "display_data"
    }
   ],
   "source": [
    "sns.regplot(x='C', y='jobopenings_agg', data=subset_data)\n",
    " \n",
    "plt.show()"
   ]
  },
  {
   "cell_type": "markdown",
   "id": "84ea3f17",
   "metadata": {},
   "source": [
    "### Setting a hypothesis.\n",
    "\n",
    "- Null hypothesis (H0): There is no relationship between the fraction of person C skilled and the job opening.\n",
    "- Alternative hypothesis (Ha): There is a relationship between the fraction of person C skilled and the job opening."
   ]
  },
  {
   "cell_type": "markdown",
   "id": "d6cfa09f",
   "metadata": {},
   "source": [
    "Next, a pair of hypotheses is set for statistical testing. The null hypothesis (H0) states there's no relationship between the fraction of individuals skilled in C and the job openings. In contrast, the alternative hypothesis (Ha) proposes that such a relationship does exist.\n",
    "\n",
    "Once the hypotheses are established, the script proceeds to create a statistical model using Ordinary Least Squares (OLS) Regression with the formula 'C ~ jobopenings_agg'. This formula signifies that the C skills (dependent variable) are being modeled as a function of job openings (independent variable)."
   ]
  },
  {
   "cell_type": "code",
   "execution_count": 5,
   "id": "417d1118",
   "metadata": {},
   "outputs": [
    {
     "name": "stdout",
     "output_type": "stream",
     "text": [
      "                            OLS Regression Results                            \n",
      "==============================================================================\n",
      "Dep. Variable:                      C   R-squared:                       0.520\n",
      "Model:                            OLS   Adj. R-squared:                  0.460\n",
      "Method:                 Least Squares   F-statistic:                     8.681\n",
      "Date:                Sun, 21 May 2023   Prob (F-statistic):             0.0185\n",
      "Time:                        14:16:06   Log-Likelihood:                 14.165\n",
      "No. Observations:                  10   AIC:                            -24.33\n",
      "Df Residuals:                       8   BIC:                            -23.72\n",
      "Df Model:                           1                                         \n",
      "Covariance Type:            nonrobust                                         \n",
      "===================================================================================\n",
      "                      coef    std err          t      P>|t|      [0.025      0.975]\n",
      "-----------------------------------------------------------------------------------\n",
      "Intercept          -0.0754      0.071     -1.062      0.319      -0.239       0.088\n",
      "jobopenings_agg  1.789e-07   6.07e-08      2.946      0.019    3.89e-08    3.19e-07\n",
      "==============================================================================\n",
      "Omnibus:                        3.046   Durbin-Watson:                   0.868\n",
      "Prob(Omnibus):                  0.218   Jarque-Bera (JB):                0.986\n",
      "Skew:                          -0.106   Prob(JB):                        0.611\n",
      "Kurtosis:                       1.476   Cond. No.                     4.00e+06\n",
      "==============================================================================\n",
      "\n",
      "Notes:\n",
      "[1] Standard Errors assume that the covariance matrix of the errors is correctly specified.\n",
      "[2] The condition number is large,  4e+06. This might indicate that there are\n",
      "strong multicollinearity or other numerical problems.\n"
     ]
    }
   ],
   "source": [
    "model = smf.ols(formula='C ~ jobopenings_agg', data=subset_data).fit()\n",
    "\n",
    "# model summary\n",
    "print(model.summary())"
   ]
  },
  {
   "cell_type": "markdown",
   "id": "35b33d79",
   "metadata": {},
   "source": [
    "The model.summary() function is used to obtain a comprehensive summary of the Ordinary Least Squares (OLS) regression model. The summary includes several key statistics that help interpret the model's results.\n",
    "\n",
    "The Dep. Variable line shows that 'C' is the dependent variable in our model, i.e., the variable we're trying to predict or explain.\n",
    "\n",
    "The R-squared and Adj. R-squared values represent the proportion of variance in the dependent variable (C) that can be explained by the independent variable (jobopenings_agg). In this case, approximately 52% of the variation in 'C' can be explained by 'jobopenings_agg', after adjusting for the number of predictors in the model.\n",
    "\n",
    "The F-statistic and its associated probability Prob (F-statistic) test the overall significance of the regression model. A small p-value (0.0185, which is less than 0.05) indicates that at least some of the predictors are statistically significant in explaining the dependent variable.\n",
    "\n",
    "The coef column under the table provides the estimated coefficients for the intercept and jobopenings_agg. These values can be interpreted as: for each unit increase in job openings, the predicted value of 'C' increases by 1.789e-07, holding all else constant.\n",
    "\n",
    "The P>|t| values (also known as p-values) are used to test the null hypothesis that each coefficient is zero, given the data. If the p-value is less than our significance level (0.05), we reject the null hypothesis and conclude that there's a statistically significant relationship between the respective predictor and the outcome variable. In this case, the p-value for jobopenings_agg is 0.019, suggesting that jobopenings_agg significantly predicts the proportion of individuals skilled in C."
   ]
  },
  {
   "cell_type": "markdown",
   "id": "0ab7956f",
   "metadata": {},
   "source": [
    "#### Our predictions:\n",
    "\n",
    "If we take our significance level (alpha) to be 0.05, we can NOT reject the null hypothesis  as p<0.05. so, we can say that there is relationship between the fraction of person C skilled and the job opening."
   ]
  },
  {
   "cell_type": "markdown",
   "id": "09c7b5b6",
   "metadata": {},
   "source": [
    "### Language Skill: Java"
   ]
  },
  {
   "cell_type": "markdown",
   "id": "2c9561c4",
   "metadata": {},
   "source": [
    "Similar to the previous analysis, we started by isolating the variables of interest - 'JAVA' and 'jobopenings_agg' - from the main dataset. For the variable 'JAVA', we normalized it by the total number of observations to create a fractional representation of individuals skilled in Java."
   ]
  },
  {
   "cell_type": "markdown",
   "id": "6829a906",
   "metadata": {},
   "source": [
    "We then visualized the relationship between the fraction of individuals skilled in Java ('JAVA') and the aggregate number of job openings ('jobopenings_agg'). The regression plot gives us a preliminary sense of the relationship between these two variables."
   ]
  },
  {
   "cell_type": "code",
   "execution_count": 6,
   "id": "5f797195",
   "metadata": {},
   "outputs": [
    {
     "data": {
      "text/html": [
       "<div>\n",
       "<style scoped>\n",
       "    .dataframe tbody tr th:only-of-type {\n",
       "        vertical-align: middle;\n",
       "    }\n",
       "\n",
       "    .dataframe tbody tr th {\n",
       "        vertical-align: top;\n",
       "    }\n",
       "\n",
       "    .dataframe thead th {\n",
       "        text-align: right;\n",
       "    }\n",
       "</style>\n",
       "<table border=\"1\" class=\"dataframe\">\n",
       "  <thead>\n",
       "    <tr style=\"text-align: right;\">\n",
       "      <th></th>\n",
       "      <th>JAVA</th>\n",
       "      <th>jobopenings_agg</th>\n",
       "    </tr>\n",
       "  </thead>\n",
       "  <tbody>\n",
       "    <tr>\n",
       "      <th>0</th>\n",
       "      <td>0.000103</td>\n",
       "      <td>667832.0</td>\n",
       "    </tr>\n",
       "    <tr>\n",
       "      <th>1</th>\n",
       "      <td>0.000131</td>\n",
       "      <td>784846.0</td>\n",
       "    </tr>\n",
       "    <tr>\n",
       "      <th>2</th>\n",
       "      <td>0.000000</td>\n",
       "      <td>913536.0</td>\n",
       "    </tr>\n",
       "    <tr>\n",
       "      <th>3</th>\n",
       "      <td>0.320221</td>\n",
       "      <td>961278.0</td>\n",
       "    </tr>\n",
       "    <tr>\n",
       "      <th>4</th>\n",
       "      <td>0.282612</td>\n",
       "      <td>1007397.0</td>\n",
       "    </tr>\n",
       "  </tbody>\n",
       "</table>\n",
       "</div>"
      ],
      "text/plain": [
       "       JAVA  jobopenings_agg\n",
       "0  0.000103         667832.0\n",
       "1  0.000131         784846.0\n",
       "2  0.000000         913536.0\n",
       "3  0.320221         961278.0\n",
       "4  0.282612        1007397.0"
      ]
     },
     "execution_count": 6,
     "metadata": {},
     "output_type": "execute_result"
    }
   ],
   "source": [
    "subset_data = data.loc[:, ['JAVA', 'jobopenings_agg']]\n",
    "subset_data['JAVA'] /= data.qty.values\n",
    "subset_data.head()"
   ]
  },
  {
   "cell_type": "code",
   "execution_count": 7,
   "id": "72e2a8ed",
   "metadata": {},
   "outputs": [
    {
     "data": {
      "image/png": "[encoded data removed]",
      "text/plain": [
       "<Figure size 640x480 with 1 Axes>"
      ]
     },
     "metadata": {},
     "output_type": "display_data"
    }
   ],
   "source": [
    "sns.regplot(x='JAVA', y='jobopenings_agg', data=subset_data)\n",
    " \n",
    "plt.show()"
   ]
  },
  {
   "cell_type": "markdown",
   "id": "4f1cd8f9",
   "metadata": {},
   "source": [
    "### Setting a hypothesis.\n",
    "\n",
    "- Null hypothesis (H0): There is no relationship between the fraction of person JAVA skilled and the job opening.\n",
    "- Alternative hypothesis (Ha): There is a relationship between the fraction of person JAVA skilled and the job opening."
   ]
  },
  {
   "cell_type": "markdown",
   "id": "60e1ec89",
   "metadata": {},
   "source": [
    "For hypothesis testing, we posited two contrasting hypotheses. The null hypothesis (H0) assumed no relationship between the fraction of individuals skilled in Java and the job openings. The alternative hypothesis (Ha), on the other hand, proposed that there is a relationship."
   ]
  },
  {
   "cell_type": "code",
   "execution_count": 8,
   "id": "2887a93a",
   "metadata": {},
   "outputs": [
    {
     "name": "stdout",
     "output_type": "stream",
     "text": [
      "                            OLS Regression Results                            \n",
      "==============================================================================\n",
      "Dep. Variable:                   JAVA   R-squared:                       0.391\n",
      "Model:                            OLS   Adj. R-squared:                  0.315\n",
      "Method:                 Least Squares   F-statistic:                     5.142\n",
      "Date:                Sun, 21 May 2023   Prob (F-statistic):             0.0531\n",
      "Time:                        14:16:34   Log-Likelihood:                 6.6407\n",
      "No. Observations:                  10   AIC:                            -9.281\n",
      "Df Residuals:                       8   BIC:                            -8.676\n",
      "Df Model:                           1                                         \n",
      "Covariance Type:            nonrobust                                         \n",
      "===================================================================================\n",
      "                      coef    std err          t      P>|t|      [0.025      0.975]\n",
      "-----------------------------------------------------------------------------------\n",
      "Intercept          -0.0870      0.151     -0.577      0.580      -0.434       0.260\n",
      "jobopenings_agg  2.922e-07   1.29e-07      2.268      0.053   -4.96e-09    5.89e-07\n",
      "==============================================================================\n",
      "Omnibus:                        5.468   Durbin-Watson:                   0.912\n",
      "Prob(Omnibus):                  0.065   Jarque-Bera (JB):                1.248\n",
      "Skew:                          -0.119   Prob(JB):                        0.536\n",
      "Kurtosis:                       1.286   Cond. No.                     4.00e+06\n",
      "==============================================================================\n",
      "\n",
      "Notes:\n",
      "[1] Standard Errors assume that the covariance matrix of the errors is correctly specified.\n",
      "[2] The condition number is large,  4e+06. This might indicate that there are\n",
      "strong multicollinearity or other numerical problems.\n"
     ]
    }
   ],
   "source": [
    "model = smf.ols(formula='JAVA ~ jobopenings_agg', data=subset_data).fit()\n",
    "\n",
    "# model summary\n",
    "print(model.summary())"
   ]
  },
  {
   "cell_type": "markdown",
   "id": "cd61010c",
   "metadata": {},
   "source": [
    "Next, we performed an Ordinary Least Squares (OLS) Regression to test these hypotheses. The regression results show an adjusted R-squared value of 0.315, indicating that about 31.5% of the variability in the 'JAVA' variable can be explained by 'jobopenings_agg'."
   ]
  },
  {
   "cell_type": "markdown",
   "id": "d1d16b19",
   "metadata": {},
   "source": [
    "#### Our predictions:\n",
    "\n",
    "The coefficient of 'jobopenings_agg' is positive, suggesting that as the number of job openings increases, the fraction of individuals skilled in Java also increases, holding all else constant. However, the p-value associated with this coefficient is slightly above our 0.05 significance level, leading to a failure in rejecting the null hypothesis. This suggests that while there appears to be a trend, we do not have enough statistical evidence to conclude a significant relationship between the fraction of individuals skilled in Java and the number of job openings."
   ]
  },
  {
   "cell_type": "markdown",
   "id": "7a3c9ed1",
   "metadata": {},
   "source": [
    "### Language Skill: Julia"
   ]
  },
  {
   "cell_type": "markdown",
   "id": "660041a4",
   "metadata": {},
   "source": [
    "For the Julia programming language, we set up a similar hypothesis test. The null hypothesis (H0) states that there is no relationship between the fraction of individuals skilled in Julia and the job openings, while the alternative hypothesis (Ha) suggests a relationship exists."
   ]
  },
  {
   "cell_type": "markdown",
   "id": "8ad1313d",
   "metadata": {},
   "source": [
    "The code below is used to create a new DataFrame subset_data that only contains the 'JULIA' and 'jobopenings_agg' columns from the original 'data' DataFrame.\n",
    "\n",
    "Then subset_data normalizes the 'JULIA' values in the subset data by dividing it by the total count of skills in each row. This operation provides a fraction representing the prevalence of Julia skill in the dataset for each year.\n",
    "\n",
    "When we print the head of our DataFrame using subset_data.head(), we see the first few rows of our newly created DataFrame. For example, the first row indicates that the fraction of persons skilled in Julia was around 0.000103 and the number of job openings was 667,832 in that year. There's also an entry with 'NaN', which indicates that there was no data available for Julia in the corresponding survey year. This can occur when the skill wasn't measured that year in the survey."
   ]
  },
  {
   "cell_type": "code",
   "execution_count": 9,
   "id": "3be111bb",
   "metadata": {},
   "outputs": [
    {
     "data": {
      "text/html": [
       "<div>\n",
       "<style scoped>\n",
       "    .dataframe tbody tr th:only-of-type {\n",
       "        vertical-align: middle;\n",
       "    }\n",
       "\n",
       "    .dataframe tbody tr th {\n",
       "        vertical-align: top;\n",
       "    }\n",
       "\n",
       "    .dataframe thead th {\n",
       "        text-align: right;\n",
       "    }\n",
       "</style>\n",
       "<table border=\"1\" class=\"dataframe\">\n",
       "  <thead>\n",
       "    <tr style=\"text-align: right;\">\n",
       "      <th></th>\n",
       "      <th>JULIA</th>\n",
       "      <th>jobopenings_agg</th>\n",
       "    </tr>\n",
       "  </thead>\n",
       "  <tbody>\n",
       "    <tr>\n",
       "      <th>0</th>\n",
       "      <td>0.000103</td>\n",
       "      <td>667832.0</td>\n",
       "    </tr>\n",
       "    <tr>\n",
       "      <th>1</th>\n",
       "      <td>0.000000</td>\n",
       "      <td>784846.0</td>\n",
       "    </tr>\n",
       "    <tr>\n",
       "      <th>2</th>\n",
       "      <td>0.000000</td>\n",
       "      <td>913536.0</td>\n",
       "    </tr>\n",
       "    <tr>\n",
       "      <th>3</th>\n",
       "      <td>NaN</td>\n",
       "      <td>961278.0</td>\n",
       "    </tr>\n",
       "    <tr>\n",
       "      <th>4</th>\n",
       "      <td>0.002685</td>\n",
       "      <td>1007397.0</td>\n",
       "    </tr>\n",
       "  </tbody>\n",
       "</table>\n",
       "</div>"
      ],
      "text/plain": [
       "      JULIA  jobopenings_agg\n",
       "0  0.000103         667832.0\n",
       "1  0.000000         784846.0\n",
       "2  0.000000         913536.0\n",
       "3       NaN         961278.0\n",
       "4  0.002685        1007397.0"
      ]
     },
     "execution_count": 9,
     "metadata": {},
     "output_type": "execute_result"
    }
   ],
   "source": [
    "subset_data = data.loc[:, ['JULIA', 'jobopenings_agg']]\n",
    "subset_data['JULIA'] /= data.qty.values\n",
    "subset_data.head()"
   ]
  },
  {
   "cell_type": "markdown",
   "id": "58cfff7a",
   "metadata": {},
   "source": [
    "Finally, the seaborn regplot visualizes the relationship between the fraction of individuals with Julia skills and the number of job openings. The plot is a scatter plot with a linear regression model fitted to it. It's an invaluable tool for observing and understanding the relationship between these two variables at a glance. The line represents the best fit line through the data points and offers a visual verification of the correlation that we've found statistically."
   ]
  },
  {
   "cell_type": "code",
   "execution_count": 10,
   "id": "17fd6fd1",
   "metadata": {},
   "outputs": [
    {
     "data": {
      "image/png": "[encoded data removed]",
      "text/plain": [
       "<Figure size 640x480 with 1 Axes>"
      ]
     },
     "metadata": {},
     "output_type": "display_data"
    }
   ],
   "source": [
    "sns.regplot(x='JULIA', y='jobopenings_agg', data=subset_data)\n",
    " \n",
    "plt.show()"
   ]
  },
  {
   "cell_type": "markdown",
   "id": "f696bf65",
   "metadata": {},
   "source": [
    "### Setting a hypothesis.\n",
    "\n",
    "- Null hypothesis (H0): There is no relationship between the fraction of person JuliaC skilled and the job opening.\n",
    "- Alternative hypothesis (Ha): There is a relationship between the fraction of person Julia skilled and the job opening."
   ]
  },
  {
   "cell_type": "code",
   "execution_count": 11,
   "id": "ed4ff4e3",
   "metadata": {},
   "outputs": [
    {
     "name": "stdout",
     "output_type": "stream",
     "text": [
      "                            OLS Regression Results                            \n",
      "==============================================================================\n",
      "Dep. Variable:                  JULIA   R-squared:                       0.893\n",
      "Model:                            OLS   Adj. R-squared:                  0.876\n",
      "Method:                 Least Squares   F-statistic:                     50.27\n",
      "Date:                Sun, 21 May 2023   Prob (F-statistic):           0.000395\n",
      "Time:                        14:16:39   Log-Likelihood:                 39.179\n",
      "No. Observations:                   8   AIC:                            -74.36\n",
      "Df Residuals:                       6   BIC:                            -74.20\n",
      "Df Model:                           1                                         \n",
      "Covariance Type:            nonrobust                                         \n",
      "===================================================================================\n",
      "                      coef    std err          t      P>|t|      [0.025      0.975]\n",
      "-----------------------------------------------------------------------------------\n",
      "Intercept          -0.0103      0.002     -4.430      0.004      -0.016      -0.005\n",
      "jobopenings_agg  1.386e-08   1.95e-09      7.090      0.000    9.08e-09    1.86e-08\n",
      "==============================================================================\n",
      "Omnibus:                        4.121   Durbin-Watson:                   1.947\n",
      "Prob(Omnibus):                  0.127   Jarque-Bera (JB):                1.217\n",
      "Skew:                           0.948   Prob(JB):                        0.544\n",
      "Kurtosis:                       3.246   Cond. No.                     3.76e+06\n",
      "==============================================================================\n",
      "\n",
      "Notes:\n",
      "[1] Standard Errors assume that the covariance matrix of the errors is correctly specified.\n",
      "[2] The condition number is large, 3.76e+06. This might indicate that there are\n",
      "strong multicollinearity or other numerical problems.\n"
     ]
    }
   ],
   "source": [
    "model = smf.ols(formula='JULIA ~ jobopenings_agg', data=subset_data).fit()\n",
    "\n",
    "# model summary\n",
    "print(model.summary())"
   ]
  },
  {
   "cell_type": "markdown",
   "id": "62e7cf4b",
   "metadata": {},
   "source": [
    "Looking at the Ordinary Least Squares (OLS) Regression Results, a number of important parameters emerge. Firstly, the R-squared value is approximately 0.893, indicating that around 89.3% of the variance in the fraction of individuals skilled in Julia can be explained by the number of job openings. The Adjusted R-squared, which adjusts the statistic based on the number of observations, is similarly high at 0.876.\n",
    "\n",
    "The F-statistic, which tests the overall significance of the model, is 50.27, with an associated probability (p-value) of 0.000395. This low p-value suggests that the number of job openings is statistically significant in explaining the fraction of individuals skilled in Julia.\n",
    "\n",
    "Moving onto the coefficients of the regression, the Intercept term is -0.0103, while the coefficient for job openings is approximately 1.386e-08. This indicates that for every additional job opening, the fraction of individuals skilled in Julia increases by this small amount, assuming all other variables remain constant.\n",
    "\n",
    "The standard errors provide an estimate of the uncertainty around these coefficient estimates, and the corresponding t-values and p-values test the hypothesis that each individual coefficient is different from zero."
   ]
  },
  {
   "cell_type": "markdown",
   "id": "816a28fb",
   "metadata": {},
   "source": [
    "#### Our predictions:\n",
    "When considering the predictions at the 0.05 significance level (alpha), the p-value of the regression coefficient for job openings is less than alpha. This suggests that we reject the null hypothesis, and therefore, there appears to be a statistically significant relationship between the fraction of individuals skilled in Julia and the number of job openings. "
   ]
  },
  {
   "cell_type": "markdown",
   "id": "d6291dd3",
   "metadata": {},
   "source": [
    "### Language Skill: MATLAB"
   ]
  },
  {
   "cell_type": "markdown",
   "id": "2489c469",
   "metadata": {},
   "source": [
    "Next, we focused on the relationship between the fraction of individuals possessing MATLAB skills and the number of aggregated job openings. We extracted the MATLAB and jobopenings_agg columns from our data, then normalized the MATLAB values by dividing them by the total quantity of skills in each row."
   ]
  },
  {
   "cell_type": "code",
   "execution_count": 12,
   "id": "d4bb79c9",
   "metadata": {},
   "outputs": [
    {
     "data": {
      "text/html": [
       "<div>\n",
       "<style scoped>\n",
       "    .dataframe tbody tr th:only-of-type {\n",
       "        vertical-align: middle;\n",
       "    }\n",
       "\n",
       "    .dataframe tbody tr th {\n",
       "        vertical-align: top;\n",
       "    }\n",
       "\n",
       "    .dataframe thead th {\n",
       "        text-align: right;\n",
       "    }\n",
       "</style>\n",
       "<table border=\"1\" class=\"dataframe\">\n",
       "  <thead>\n",
       "    <tr style=\"text-align: right;\">\n",
       "      <th></th>\n",
       "      <th>MATLAB</th>\n",
       "      <th>jobopenings_agg</th>\n",
       "    </tr>\n",
       "  </thead>\n",
       "  <tbody>\n",
       "    <tr>\n",
       "      <th>0</th>\n",
       "      <td>0.001334</td>\n",
       "      <td>667832.0</td>\n",
       "    </tr>\n",
       "    <tr>\n",
       "      <th>1</th>\n",
       "      <td>0.000785</td>\n",
       "      <td>784846.0</td>\n",
       "    </tr>\n",
       "    <tr>\n",
       "      <th>2</th>\n",
       "      <td>0.000000</td>\n",
       "      <td>913536.0</td>\n",
       "    </tr>\n",
       "    <tr>\n",
       "      <th>3</th>\n",
       "      <td>0.028592</td>\n",
       "      <td>961278.0</td>\n",
       "    </tr>\n",
       "    <tr>\n",
       "      <th>4</th>\n",
       "      <td>0.030530</td>\n",
       "      <td>1007397.0</td>\n",
       "    </tr>\n",
       "  </tbody>\n",
       "</table>\n",
       "</div>"
      ],
      "text/plain": [
       "     MATLAB  jobopenings_agg\n",
       "0  0.001334         667832.0\n",
       "1  0.000785         784846.0\n",
       "2  0.000000         913536.0\n",
       "3  0.028592         961278.0\n",
       "4  0.030530        1007397.0"
      ]
     },
     "execution_count": 12,
     "metadata": {},
     "output_type": "execute_result"
    }
   ],
   "source": [
    "subset_data = data.loc[:, ['MATLAB', 'jobopenings_agg']]\n",
    "subset_data['MATLAB'] /= data.qty.values\n",
    "subset_data.head()"
   ]
  },
  {
   "cell_type": "code",
   "execution_count": 13,
   "id": "eb3e4dc4",
   "metadata": {},
   "outputs": [
    {
     "data": {
      "image/png": "[encoded data removed]",
      "text/plain": [
       "<Figure size 640x480 with 1 Axes>"
      ]
     },
     "metadata": {},
     "output_type": "display_data"
    }
   ],
   "source": [
    "sns.regplot(x='MATLAB', y='jobopenings_agg', data=subset_data)\n",
    " \n",
    "plt.show()"
   ]
  },
  {
   "cell_type": "markdown",
   "id": "60ab147c",
   "metadata": {},
   "source": [
    "### Setting a hypothesis.\n",
    "\n",
    "- Null hypothesis (H0): There is no relationship between the fraction of person MATLAB skilled and the job opening.\n",
    "- Alternative hypothesis (Ha): There is a relationship between the fraction of person MATLAB skilled and the job opening."
   ]
  },
  {
   "cell_type": "markdown",
   "id": "0c0281dd",
   "metadata": {},
   "source": [
    "We proposed two hypotheses: the null hypothesis (H0) posited no relationship between the fraction of people proficient in MATLAB and the number of job openings, while the alternative hypothesis (Ha) suggested that such a relationship exists.\n",
    "\n",
    "To assess these hypotheses, we employed the Ordinary Least Squares (OLS) regression method, modeling the relationship between the fraction of individuals skilled in MATLAB and the number of job openings."
   ]
  },
  {
   "cell_type": "code",
   "execution_count": 14,
   "id": "a4519817",
   "metadata": {},
   "outputs": [
    {
     "name": "stdout",
     "output_type": "stream",
     "text": [
      "                            OLS Regression Results                            \n",
      "==============================================================================\n",
      "Dep. Variable:                 MATLAB   R-squared:                       0.601\n",
      "Model:                            OLS   Adj. R-squared:                  0.534\n",
      "Method:                 Least Squares   F-statistic:                     9.026\n",
      "Date:                Sun, 21 May 2023   Prob (F-statistic):             0.0239\n",
      "Time:                        14:16:44   Log-Likelihood:                 23.983\n",
      "No. Observations:                   8   AIC:                            -43.97\n",
      "Df Residuals:                       6   BIC:                            -43.81\n",
      "Df Model:                           1                                         \n",
      "Covariance Type:            nonrobust                                         \n",
      "===================================================================================\n",
      "                      coef    std err          t      P>|t|      [0.025      0.975]\n",
      "-----------------------------------------------------------------------------------\n",
      "Intercept          -0.0194      0.015     -1.268      0.252      -0.057       0.018\n",
      "jobopenings_agg   3.89e-08   1.29e-08      3.004      0.024    7.22e-09    7.06e-08\n",
      "==============================================================================\n",
      "Omnibus:                        1.133   Durbin-Watson:                   1.181\n",
      "Prob(Omnibus):                  0.568   Jarque-Bera (JB):                0.656\n",
      "Skew:                           0.250   Prob(JB):                        0.720\n",
      "Kurtosis:                       1.689   Cond. No.                     3.68e+06\n",
      "==============================================================================\n",
      "\n",
      "Notes:\n",
      "[1] Standard Errors assume that the covariance matrix of the errors is correctly specified.\n",
      "[2] The condition number is large, 3.68e+06. This might indicate that there are\n",
      "strong multicollinearity or other numerical problems.\n"
     ]
    }
   ],
   "source": [
    "model = smf.ols(formula='MATLAB ~ jobopenings_agg', data=subset_data).fit()\n",
    "\n",
    "# model summary\n",
    "print(model.summary())"
   ]
  },
  {
   "cell_type": "markdown",
   "id": "577a4b77",
   "metadata": {},
   "source": [
    "Our OLS regression results indicated an R-squared value of 0.601. This suggests that approximately 60.1% of the variability in the fraction of individuals with MATLAB skills can be accounted for by the variability in job openings - a reasonably robust correlation.\n",
    "\n",
    "Furthermore, the p-value associated with the jobopenings_agg variable was found to be 0.024, less than our chosen significance level (alpha) of 0.05. This means that the number of job openings does appear to have a statistically significant effect on the fraction of individuals with MATLAB skills."
   ]
  },
  {
   "cell_type": "markdown",
   "id": "a16a66cb",
   "metadata": {},
   "source": [
    "#### Our predictions:\n",
    "Based on these findings, at the 0.05 significance level, we would reject the null hypothesis. This implies that there is a statistically significant relationship between the fraction of individuals skilled in MATLAB and the number of job openings."
   ]
  },
  {
   "cell_type": "markdown",
   "id": "f011c7ea",
   "metadata": {},
   "source": [
    "### Language Skill: PHP"
   ]
  },
  {
   "cell_type": "markdown",
   "id": "23400469",
   "metadata": {},
   "source": [
    "In the followinganalysis, we explore the correlation between the fraction of people skilled in PHP and the quantity of job openings. We select the 'PHP' and 'jobopenings_agg' columns from our dataset, and we normalize the 'PHP' column by dividing by the total quantity of recorded skills per row. This gives us the fraction of PHP skills for each row."
   ]
  },
  {
   "cell_type": "code",
   "execution_count": 15,
   "id": "f793d370",
   "metadata": {},
   "outputs": [
    {
     "data": {
      "text/html": [
       "<div>\n",
       "<style scoped>\n",
       "    .dataframe tbody tr th:only-of-type {\n",
       "        vertical-align: middle;\n",
       "    }\n",
       "\n",
       "    .dataframe tbody tr th {\n",
       "        vertical-align: top;\n",
       "    }\n",
       "\n",
       "    .dataframe thead th {\n",
       "        text-align: right;\n",
       "    }\n",
       "</style>\n",
       "<table border=\"1\" class=\"dataframe\">\n",
       "  <thead>\n",
       "    <tr style=\"text-align: right;\">\n",
       "      <th></th>\n",
       "      <th>PHP</th>\n",
       "      <th>jobopenings_agg</th>\n",
       "    </tr>\n",
       "  </thead>\n",
       "  <tbody>\n",
       "    <tr>\n",
       "      <th>0</th>\n",
       "      <td>0.000103</td>\n",
       "      <td>667832.0</td>\n",
       "    </tr>\n",
       "    <tr>\n",
       "      <th>1</th>\n",
       "      <td>0.000262</td>\n",
       "      <td>784846.0</td>\n",
       "    </tr>\n",
       "    <tr>\n",
       "      <th>2</th>\n",
       "      <td>0.000000</td>\n",
       "      <td>913536.0</td>\n",
       "    </tr>\n",
       "    <tr>\n",
       "      <th>3</th>\n",
       "      <td>0.228092</td>\n",
       "      <td>961278.0</td>\n",
       "    </tr>\n",
       "    <tr>\n",
       "      <th>4</th>\n",
       "      <td>0.200226</td>\n",
       "      <td>1007397.0</td>\n",
       "    </tr>\n",
       "  </tbody>\n",
       "</table>\n",
       "</div>"
      ],
      "text/plain": [
       "        PHP  jobopenings_agg\n",
       "0  0.000103         667832.0\n",
       "1  0.000262         784846.0\n",
       "2  0.000000         913536.0\n",
       "3  0.228092         961278.0\n",
       "4  0.200226        1007397.0"
      ]
     },
     "execution_count": 15,
     "metadata": {},
     "output_type": "execute_result"
    }
   ],
   "source": [
    "subset_data = data.loc[:, ['PHP', 'jobopenings_agg']]\n",
    "subset_data['PHP'] /= data.qty.values\n",
    "subset_data.head()"
   ]
  },
  {
   "cell_type": "code",
   "execution_count": 16,
   "id": "0f078a4d",
   "metadata": {},
   "outputs": [
    {
     "data": {
      "image/png": "[encoded data removed]",
      "text/plain": [
       "<Figure size 640x480 with 1 Axes>"
      ]
     },
     "metadata": {},
     "output_type": "display_data"
    }
   ],
   "source": [
    "sns.regplot(x='PHP', y='jobopenings_agg', data=subset_data)\n",
    " \n",
    "plt.show()"
   ]
  },
  {
   "cell_type": "markdown",
   "id": "c4f9588e",
   "metadata": {},
   "source": [
    "### Setting a hypothesis.\n",
    "\n",
    "- Null hypothesis (H0): There is no relationship between the fraction of person PHP skilled and the job opening.\n",
    "- Alternative hypothesis (Ha): There is a relationship between the fraction of person PHP skilled and the job opening."
   ]
  },
  {
   "cell_type": "markdown",
   "id": "ab2586a3",
   "metadata": {},
   "source": [
    "Our null hypothesis (H0) assumes no relationship between the fraction of individuals skilled in PHP and the number of job openings. In contrast, the alternative hypothesis (Ha) posits that such a relationship does exist. To test these hypotheses, we employ the Ordinary Least Squares (OLS) regression method to model the relationship between the fraction of individuals with PHP skills and the number of job openings."
   ]
  },
  {
   "cell_type": "code",
   "execution_count": 17,
   "id": "79082147",
   "metadata": {},
   "outputs": [
    {
     "name": "stdout",
     "output_type": "stream",
     "text": [
      "                            OLS Regression Results                            \n",
      "==============================================================================\n",
      "Dep. Variable:                    PHP   R-squared:                       0.332\n",
      "Model:                            OLS   Adj. R-squared:                  0.249\n",
      "Method:                 Least Squares   F-statistic:                     3.985\n",
      "Date:                Sun, 21 May 2023   Prob (F-statistic):             0.0810\n",
      "Time:                        14:16:49   Log-Likelihood:                 10.377\n",
      "No. Observations:                  10   AIC:                            -16.75\n",
      "Df Residuals:                       8   BIC:                            -16.15\n",
      "Df Model:                           1                                         \n",
      "Covariance Type:            nonrobust                                         \n",
      "===================================================================================\n",
      "                      coef    std err          t      P>|t|      [0.025      0.975]\n",
      "-----------------------------------------------------------------------------------\n",
      "Intercept          -0.0395      0.104     -0.381      0.713      -0.279       0.200\n",
      "jobopenings_agg   1.77e-07   8.87e-08      1.996      0.081   -2.75e-08    3.81e-07\n",
      "==============================================================================\n",
      "Omnibus:                        6.377   Durbin-Watson:                   0.922\n",
      "Prob(Omnibus):                  0.041   Jarque-Bera (JB):                1.329\n",
      "Skew:                          -0.131   Prob(JB):                        0.514\n",
      "Kurtosis:                       1.233   Cond. No.                     4.00e+06\n",
      "==============================================================================\n",
      "\n",
      "Notes:\n",
      "[1] Standard Errors assume that the covariance matrix of the errors is correctly specified.\n",
      "[2] The condition number is large,  4e+06. This might indicate that there are\n",
      "strong multicollinearity or other numerical problems.\n"
     ]
    }
   ],
   "source": [
    "model = smf.ols(formula='PHP ~ jobopenings_agg', data=subset_data).fit()\n",
    "\n",
    "# model summary\n",
    "print(model.summary())"
   ]
  },
  {
   "cell_type": "markdown",
   "id": "9b2c1f6b",
   "metadata": {},
   "source": [
    "According to our OLS regression results, we get an R-squared value of 0.332. This indicates that about 33.2% of the variance in the fraction of individuals skilled in PHP can be explained by the variance in job openings. The p-value for the job openings aggregate, at 0.081, is greater than our significance level of 0.05. This means we cannot reject the null hypothesis."
   ]
  },
  {
   "cell_type": "markdown",
   "id": "4ae3ab5f",
   "metadata": {},
   "source": [
    "#### Our predictions:\n",
    "\n",
    "Our statistical analysis for the language skill PHP resulted in a p-value of 0.081, which is greater than our chosen significance level of 0.05. This means we do not have sufficient evidence to reject the null hypothesis. Hence, we can't conclusively say that there is a significant relationship between the fraction of people skilled in PHP and the number of job openings based on our analysis. We therefore maintain the status quo and do not reject the null hypothesis. This, however, does not necessarily mean that there's absolutely no relationship; it simply means we don't have enough statistical evidence from this particular analysis to prove it."
   ]
  },
  {
   "cell_type": "markdown",
   "id": "80cad3ea",
   "metadata": {},
   "source": [
    "### Language Skill: Python"
   ]
  },
  {
   "cell_type": "markdown",
   "id": "7fea99b7",
   "metadata": {},
   "source": [
    "Furthermore, we subset the dataset to focus on the 'PYTHON' and 'jobopenings_agg' variables, with 'PYTHON' values being divided by 'qty' to represent the fraction of individuals with Python skills. The head of this processed dataset shows the fraction of Python-skilled individuals and the number of job openings for the first few data entries. This data is visualized with a scatter plot, showing potential trends between Python skills and job openings."
   ]
  },
  {
   "cell_type": "code",
   "execution_count": 18,
   "id": "8398f60f",
   "metadata": {},
   "outputs": [
    {
     "data": {
      "text/html": [
       "<div>\n",
       "<style scoped>\n",
       "    .dataframe tbody tr th:only-of-type {\n",
       "        vertical-align: middle;\n",
       "    }\n",
       "\n",
       "    .dataframe tbody tr th {\n",
       "        vertical-align: top;\n",
       "    }\n",
       "\n",
       "    .dataframe thead th {\n",
       "        text-align: right;\n",
       "    }\n",
       "</style>\n",
       "<table border=\"1\" class=\"dataframe\">\n",
       "  <thead>\n",
       "    <tr style=\"text-align: right;\">\n",
       "      <th></th>\n",
       "      <th>PYTHON</th>\n",
       "      <th>jobopenings_agg</th>\n",
       "    </tr>\n",
       "  </thead>\n",
       "  <tbody>\n",
       "    <tr>\n",
       "      <th>0</th>\n",
       "      <td>0.000103</td>\n",
       "      <td>667832.0</td>\n",
       "    </tr>\n",
       "    <tr>\n",
       "      <th>1</th>\n",
       "      <td>0.000392</td>\n",
       "      <td>784846.0</td>\n",
       "    </tr>\n",
       "    <tr>\n",
       "      <th>2</th>\n",
       "      <td>0.000000</td>\n",
       "      <td>913536.0</td>\n",
       "    </tr>\n",
       "    <tr>\n",
       "      <th>3</th>\n",
       "      <td>0.219204</td>\n",
       "      <td>961278.0</td>\n",
       "    </tr>\n",
       "    <tr>\n",
       "      <th>4</th>\n",
       "      <td>0.227740</td>\n",
       "      <td>1007397.0</td>\n",
       "    </tr>\n",
       "  </tbody>\n",
       "</table>\n",
       "</div>"
      ],
      "text/plain": [
       "     PYTHON  jobopenings_agg\n",
       "0  0.000103         667832.0\n",
       "1  0.000392         784846.0\n",
       "2  0.000000         913536.0\n",
       "3  0.219204         961278.0\n",
       "4  0.227740        1007397.0"
      ]
     },
     "execution_count": 18,
     "metadata": {},
     "output_type": "execute_result"
    }
   ],
   "source": [
    "subset_data = data.loc[:, ['PYTHON', 'jobopenings_agg']]\n",
    "subset_data['PYTHON'] /= data.qty.values\n",
    "subset_data.head()"
   ]
  },
  {
   "cell_type": "code",
   "execution_count": 19,
   "id": "5c3d778f",
   "metadata": {},
   "outputs": [
    {
     "data": {
      "image/png": "[encoded data removed]",
      "text/plain": [
       "<Figure size 640x480 with 1 Axes>"
      ]
     },
     "metadata": {},
     "output_type": "display_data"
    }
   ],
   "source": [
    "sns.regplot(x='PYTHON', y='jobopenings_agg', data=subset_data)\n",
    " \n",
    "plt.show()"
   ]
  },
  {
   "cell_type": "markdown",
   "id": "d564b83a",
   "metadata": {},
   "source": [
    "### Setting a hypothesis.\n",
    "\n",
    "- Null hypothesis (H0): There is no relationship between the fraction of person Python skilled and the job opening.\n",
    "- Alternative hypothesis (Ha): There is a relationship between the fraction of person Python skilled and the job opening."
   ]
  },
  {
   "cell_type": "markdown",
   "id": "0a080623",
   "metadata": {},
   "source": [
    "We set our hypotheses as follows: The null hypothesis assumes no relationship between the fraction of individuals skilled in Python and the job openings, while the alternative hypothesis assumes a relationship does exist."
   ]
  },
  {
   "cell_type": "code",
   "execution_count": 20,
   "id": "9670e5ba",
   "metadata": {},
   "outputs": [
    {
     "name": "stdout",
     "output_type": "stream",
     "text": [
      "                            OLS Regression Results                            \n",
      "==============================================================================\n",
      "Dep. Variable:                 PYTHON   R-squared:                       0.703\n",
      "Model:                            OLS   Adj. R-squared:                  0.665\n",
      "Method:                 Least Squares   F-statistic:                     18.89\n",
      "Date:                Sun, 21 May 2023   Prob (F-statistic):            0.00246\n",
      "Time:                        14:16:53   Log-Likelihood:                 8.8383\n",
      "No. Observations:                  10   AIC:                            -13.68\n",
      "Df Residuals:                       8   BIC:                            -13.07\n",
      "Df Model:                           1                                         \n",
      "Covariance Type:            nonrobust                                         \n",
      "===================================================================================\n",
      "                      coef    std err          t      P>|t|      [0.025      0.975]\n",
      "-----------------------------------------------------------------------------------\n",
      "Intercept          -0.2526      0.121     -2.089      0.070      -0.531       0.026\n",
      "jobopenings_agg  4.495e-07   1.03e-07      4.346      0.002    2.11e-07    6.88e-07\n",
      "==============================================================================\n",
      "Omnibus:                        0.216   Durbin-Watson:                   0.995\n",
      "Prob(Omnibus):                  0.898   Jarque-Bera (JB):                0.380\n",
      "Skew:                           0.197   Prob(JB):                        0.827\n",
      "Kurtosis:                       2.130   Cond. No.                     4.00e+06\n",
      "==============================================================================\n",
      "\n",
      "Notes:\n",
      "[1] Standard Errors assume that the covariance matrix of the errors is correctly specified.\n",
      "[2] The condition number is large,  4e+06. This might indicate that there are\n",
      "strong multicollinearity or other numerical problems.\n"
     ]
    }
   ],
   "source": [
    "model = smf.ols(formula='PYTHON ~ jobopenings_agg', data=subset_data).fit()\n",
    "\n",
    "# model summary\n",
    "print(model.summary())"
   ]
  },
  {
   "cell_type": "markdown",
   "id": "839e2706",
   "metadata": {},
   "source": [
    "The results from the ordinary least squares (OLS) regression indicate that approximately 70.3% of the variation in the fraction of Python-skilled individuals can be explained by the number of job openings. Our model's p-value is 0.00246, which is less than our predetermined significance level of 0.05."
   ]
  },
  {
   "cell_type": "markdown",
   "id": "6ee461f6",
   "metadata": {},
   "source": [
    "#### Our predictions:\n",
    "\n",
    "Our conclusion based on this analysis: given our alpha of 0.05, we reject the null hypothesis as our p-value is less than 0.05. This provides evidence to suggest a significant relationship between the fraction of individuals skilled in Python and the number of job openings."
   ]
  },
  {
   "cell_type": "markdown",
   "id": "9b48b094",
   "metadata": {},
   "source": [
    "### Language Skill: R"
   ]
  },
  {
   "cell_type": "markdown",
   "id": "6f75fb0a",
   "metadata": {},
   "source": [
    "Finally, We begin by subsetting the dataset, focusing on 'R' and 'jobopenings_agg'. The 'R' values are divided by 'qty' to generate the fraction of individuals skilled in R. The first few entries of this adjusted dataset display the fraction of R-skilled individuals and the count of job openings. We visualized this data using a scatter plot to help reveal any apparent trends between R skills and job openings."
   ]
  },
  {
   "cell_type": "code",
   "execution_count": 21,
   "id": "a2415040",
   "metadata": {},
   "outputs": [
    {
     "data": {
      "text/html": [
       "<div>\n",
       "<style scoped>\n",
       "    .dataframe tbody tr th:only-of-type {\n",
       "        vertical-align: middle;\n",
       "    }\n",
       "\n",
       "    .dataframe tbody tr th {\n",
       "        vertical-align: top;\n",
       "    }\n",
       "\n",
       "    .dataframe thead th {\n",
       "        text-align: right;\n",
       "    }\n",
       "</style>\n",
       "<table border=\"1\" class=\"dataframe\">\n",
       "  <thead>\n",
       "    <tr style=\"text-align: right;\">\n",
       "      <th></th>\n",
       "      <th>R</th>\n",
       "      <th>jobopenings_agg</th>\n",
       "    </tr>\n",
       "  </thead>\n",
       "  <tbody>\n",
       "    <tr>\n",
       "      <th>0</th>\n",
       "      <td>0.000205</td>\n",
       "      <td>667832.0</td>\n",
       "    </tr>\n",
       "    <tr>\n",
       "      <th>1</th>\n",
       "      <td>0.006149</td>\n",
       "      <td>784846.0</td>\n",
       "    </tr>\n",
       "    <tr>\n",
       "      <th>2</th>\n",
       "      <td>0.000000</td>\n",
       "      <td>913536.0</td>\n",
       "    </tr>\n",
       "    <tr>\n",
       "      <th>3</th>\n",
       "      <td>0.029127</td>\n",
       "      <td>961278.0</td>\n",
       "    </tr>\n",
       "    <tr>\n",
       "      <th>4</th>\n",
       "      <td>0.031795</td>\n",
       "      <td>1007397.0</td>\n",
       "    </tr>\n",
       "  </tbody>\n",
       "</table>\n",
       "</div>"
      ],
      "text/plain": [
       "          R  jobopenings_agg\n",
       "0  0.000205         667832.0\n",
       "1  0.006149         784846.0\n",
       "2  0.000000         913536.0\n",
       "3  0.029127         961278.0\n",
       "4  0.031795        1007397.0"
      ]
     },
     "execution_count": 21,
     "metadata": {},
     "output_type": "execute_result"
    }
   ],
   "source": [
    "subset_data = data.loc[:, ['R', 'jobopenings_agg']]\n",
    "subset_data['R'] /= data.qty.values\n",
    "subset_data.head()"
   ]
  },
  {
   "cell_type": "code",
   "execution_count": 22,
   "id": "9106d3c4",
   "metadata": {},
   "outputs": [
    {
     "data": {
      "image/png": "[encoded data removed]",
      "text/plain": [
       "<Figure size 640x480 with 1 Axes>"
      ]
     },
     "metadata": {},
     "output_type": "display_data"
    }
   ],
   "source": [
    "sns.regplot(x='R', y='jobopenings_agg', data=subset_data)\n",
    " \n",
    "plt.show()"
   ]
  },
  {
   "cell_type": "markdown",
   "id": "e801ddc8",
   "metadata": {},
   "source": [
    "### Setting a hypothesis.\n",
    "\n",
    "- Null hypothesis (H0): There is no relationship between the fraction of person R skilled and the job opening.\n",
    "- Alternative hypothesis (Ha): There is a relationship between the fraction of person R skilled and the job opening."
   ]
  },
  {
   "cell_type": "markdown",
   "id": "0ee9cbb7",
   "metadata": {},
   "source": [
    "Our hypotheses are set as follows: The null hypothesis (H0) suggests that there's no relationship between the fraction of individuals skilled in R and the number of job openings. The alternative hypothesis (Ha), on the other hand, posits that such a relationship does exist."
   ]
  },
  {
   "cell_type": "code",
   "execution_count": 23,
   "id": "be07bf20",
   "metadata": {},
   "outputs": [
    {
     "name": "stdout",
     "output_type": "stream",
     "text": [
      "                            OLS Regression Results                            \n",
      "==============================================================================\n",
      "Dep. Variable:                      R   R-squared:                       0.468\n",
      "Model:                            OLS   Adj. R-squared:                  0.402\n",
      "Method:                 Least Squares   F-statistic:                     7.049\n",
      "Date:                Sun, 21 May 2023   Prob (F-statistic):             0.0290\n",
      "Time:                        14:16:56   Log-Likelihood:                 27.536\n",
      "No. Observations:                  10   AIC:                            -51.07\n",
      "Df Residuals:                       8   BIC:                            -50.47\n",
      "Df Model:                           1                                         \n",
      "Covariance Type:            nonrobust                                         \n",
      "===================================================================================\n",
      "                      coef    std err          t      P>|t|      [0.025      0.975]\n",
      "-----------------------------------------------------------------------------------\n",
      "Intercept          -0.0154      0.019     -0.827      0.432      -0.058       0.028\n",
      "jobopenings_agg  4.233e-08   1.59e-08      2.655      0.029    5.56e-09    7.91e-08\n",
      "==============================================================================\n",
      "Omnibus:                        1.393   Durbin-Watson:                   0.789\n",
      "Prob(Omnibus):                  0.498   Jarque-Bera (JB):                0.732\n",
      "Skew:                           0.135   Prob(JB):                        0.693\n",
      "Kurtosis:                       1.702   Cond. No.                     4.00e+06\n",
      "==============================================================================\n",
      "\n",
      "Notes:\n",
      "[1] Standard Errors assume that the covariance matrix of the errors is correctly specified.\n",
      "[2] The condition number is large,  4e+06. This might indicate that there are\n",
      "strong multicollinearity or other numerical problems.\n"
     ]
    }
   ],
   "source": [
    "model = smf.ols(formula='R ~ jobopenings_agg', data=subset_data).fit()\n",
    "\n",
    "# model summary\n",
    "print(model.summary())"
   ]
  },
  {
   "cell_type": "markdown",
   "id": "9d73b464",
   "metadata": {},
   "source": [
    "The Ordinary Least Squares (OLS) regression results show that roughly 46.8% of the variation in the fraction of individuals skilled in R can be explained by the number of job openings. Importantly, the p-value for our model is 0.029, which is below our predetermined significance level of 0.05."
   ]
  },
  {
   "cell_type": "markdown",
   "id": "44252869",
   "metadata": {},
   "source": [
    "#### Our predictions:\n",
    "\n",
    "Our conclusion from this analysis: Given our alpha of 0.05, we reject the null hypothesis since the p-value is less than 0.05. Thus, there appears to be a significant relationship between the fraction of individuals skilled in R and the number of job openings."
   ]
  },
  {
   "cell_type": "markdown",
   "id": "98e7c992",
   "metadata": {},
   "source": [
    "### Conclusion:\n",
    "We performed statistical analyses on the programming languages of Julia, MATLAB, PHP, Python, and R against job openings data. Our analyses were framed around testing two hypotheses: a null hypothesis suggesting that there is no relationship between the fraction of individuals skilled in a given language and the number of job openings, and an alternative hypothesis suggesting that such a relationship exists.\n",
    "\n",
    "For each programming language, we constructed a linear regression model and evaluated its p-value to determine whether to reject or fail to reject the null hypothesis. Here is a summary of the conclusions drawn from each analysis:\n",
    "\n",
    "Julia: The p-value was less than 0.05. We reject the null hypothesis. A relationship exists between the fraction of individuals skilled in Julia and job openings.\n",
    "MATLAB: The p-value was less than 0.05. We reject the null hypothesis. A relationship exists between the fraction of individuals skilled in MATLAB and job openings.\n",
    "PHP: The p-value was greater than 0.05. We fail to reject the null hypothesis. No discernible relationship exists between the fraction of individuals skilled in PHP and job openings.\n",
    "Python: The p-value was less than 0.05. We reject the null hypothesis. A relationship exists between the fraction of individuals skilled in Python and job openings.\n",
    "R: The p-value was less than 0.05. We reject the null hypothesis. A relationship exists between the fraction of individuals skilled in R and job openings.\n",
    "Based on these results, we can infer that the fraction of individuals skilled in Julia, MATLAB, Python, and R correlates with the number of job openings. For PHP, no significant correlation was detected."
   ]
  },
  {
   "cell_type": "markdown",
   "id": "9dfdc121",
   "metadata": {},
   "source": [
    "### Answering the Business Question:\n",
    "The purpose of our analysis was to help Skillzguid understand the job market demand for different programming languages. The intent was to guide the platform's decisions on which programming courses to prioritize and market aggressively.\n",
    "\n",
    "Our analysis suggests a correlation between job market demand and skill prevalence for four out of five languages evaluated: Julia, MATLAB, Python, and R. PHP appears to be an exception, showing no significant correlation.\n",
    "\n",
    "With this information, Skillzguid should consider prioritizing and marketing courses in Julia, MATLAB, Python, and R more aggressively, as these skills appear to have a high demand in the job market. Conversely, courses related to PHP might not need as much emphasis, given the lack of a significant correlation between skill prevalence and job market demand.\n",
    "\n",
    "Finally, it's important to remember that while this analysis provides some insight into market trends, other factors should be considered for comprehensive decision-making. These could include regional market differences, industry-specific demands, and the evolving nature of programming languages popularity."
   ]
  }
 ],
 "metadata": {
  "kernelspec": {
   "display_name": "Python 3 (ipykernel)",
   "language": "python",
   "name": "python3"
  },
  "language_info": {
   "codemirror_mode": {
    "name": "ipython",
    "version": 3
   },
   "file_extension": ".py",
   "mimetype": "text/x-python",
   "name": "python",
   "nbconvert_exporter": "python",
   "pygments_lexer": "ipython3",
   "version": "3.10.11"
  }
 },
 "nbformat": 4,
 "nbformat_minor": 5
}
